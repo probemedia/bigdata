{
 "cells": [
  {
   "cell_type": "code",
   "execution_count": null,
   "metadata": {},
   "outputs": [],
   "source": [
    "'''Basic Grammar'''\n",
    "'''1. 스크립트 구성순서'''\n",
    "# -*- coding: utf-8 -*-\n",
    "\"\"\"\n",
    "x + y + math.pow(x, y) 계산\n",
    "\"\"\"\n",
    "\n",
    "import math\n",
    "\n",
    "\n",
    "def my_fun(x, y):  # my_fun()함수 정의\n",
    "    return x + y + math.pow(x, y)\n",
    "\n",
    "\n",
    "if __name__ == '__main__':\n",
    "    x, y = 5.0, 3.0\n",
    "    print(\"my_fun(x, y) = %d\" % my_fun(x, y))"
   ]
  },
  {
   "cell_type": "code",
   "execution_count": null,
   "metadata": {},
   "outputs": [],
   "source": [
    "'''2. 변수와 연산자'''\n",
    "user_age = 0  # 숫자 변수 선언\n",
    "user_name = '김씨'  # 문자 변수 선언\n",
    "user_age = 22  # 변수값 변경\n",
    "mylist = [1, 2, 'a']  # 리스트변수 선언\n",
    "mytuple = (1, 2, 'a')  # 튜플변수 선언\n",
    "mydic = {\"id\": \"abcd\", \"jum\": 80}  # 딕셔너리변수 선언\n",
    "afunc = (lambda x, y: x * x + y)  # 함수\n",
    "\n",
    "user_age, user_name = 30, \"김씨\"\n",
    "\n",
    "5 > 9"
   ]
  },
  {
   "cell_type": "code",
   "execution_count": null,
   "metadata": {},
   "outputs": [],
   "source": [
    "'''3. 파이썬의 데이터 타입과 포맷팅'''\n",
    "user_age = 30\n",
    "pi = 3.14\n",
    "user_name = '철수'\n",
    "\n",
    "a = 5\n",
    "a = \"test\"\n",
    "\n",
    "print(\"김\" + \"철수\")\n",
    "print(a * 3)\n",
    "\n",
    "str(100) + \"점\""
   ]
  },
  {
   "cell_type": "code",
   "execution_count": null,
   "metadata": {},
   "outputs": [],
   "source": [
    "# 포맷팅\n",
    "\"%d\" % (123)\n",
    "print(\"%d\" % (123))\n",
    "\"%5d\" % (123)\n",
    "print(\"%5d\" % (123))\n",
    "\n",
    "\"%f\" % (1234.123)\n",
    "print(\"%f\" % (1234.123))\n",
    "\"%.2f\" % (1234.123)\n",
    "print(\"%.2f\" % (1234.123))\n",
    "\n",
    "\"%s\" % (\"aaa하하하하\")\n",
    "print(\"%s\" % (\"aaa하하하하\"))\n",
    "\"%5s\" % (\"aaa하하하하\")\n",
    "print(\"%5s\" % (\"aaa하하하하\"))"
   ]
  },
  {
   "cell_type": "code",
   "execution_count": null,
   "metadata": {},
   "outputs": [],
   "source": [
    "'{0}'.format(123)\n",
    "print('{0}'.format(123))\n",
    "'{0:d}'.format(123)\n",
    "print('{0:d}'.format(123))\n",
    "'{0:d}, {1:.1f}'.format(123, 123.45)\n",
    "print('{0:d}, {1:.1f}'.format(123, 123.45))"
   ]
  },
  {
   "cell_type": "code",
   "execution_count": null,
   "metadata": {},
   "outputs": [],
   "source": [
    "'이 %s 노트북 가격은 %d' % (\"awesome\", 200)\n",
    "print('이 %s 노트북 가격은 %d' % (\"awesome\", 200))\n",
    "'이 {0:s} 노트북 가격은 {1:d}'.format(\"awesome\", 200)\n",
    "print('이 {0:s} 노트북 가격은 {1:d}'.format(\"awesome\", 200))"
   ]
  },
  {
   "cell_type": "code",
   "execution_count": null,
   "metadata": {},
   "outputs": [],
   "source": [
    "# 형변환 함수\n",
    "print(int(\"123\"))\n",
    "print(int(123.5))\n",
    "\n",
    "print(float(123))\n",
    "print(float(\"123\"))\n",
    "\n",
    "print(str(123))\n",
    "print(str(123.5))"
   ]
  },
  {
   "cell_type": "code",
   "execution_count": null,
   "metadata": {},
   "outputs": [],
   "source": [
    "zip(['Sunday', 'Monday', 'Tuesday'], range(3))\n",
    "print(list(zip(['Sunday', 'Monday', 'Tuesday'], range(3))))\n",
    "print(dict(zip(['Sunday', 'Monday', 'Tuesday'], range(3))))\n",
    "print(tuple(zip(['Sunday', 'Monday', 'Tuesday'], range(3))))"
   ]
  },
  {
   "cell_type": "code",
   "execution_count": null,
   "metadata": {},
   "outputs": [],
   "source": [
    "# 타입확인 함수\n",
    "a = 90\n",
    "print(type(a))\n",
    "\n",
    "alist = list(zip(['Sunday', 'Monday', 'Tuesday'], range(3)))\n",
    "print(type(alist))"
   ]
  },
  {
   "cell_type": "code",
   "execution_count": null,
   "metadata": {},
   "outputs": [],
   "source": [
    "# 리스트\n",
    "data1 = [20, 22, 30]\n",
    "\n",
    "\n",
    "# 함수목록을 값으로 갖는 리스트\n",
    "def my_add(x, y):  # my_add()함수 정의\n",
    "    return x + y\n",
    "\n",
    "\n",
    "def a():\n",
    "    return 1\n",
    "\n",
    "\n",
    "x, y = 5.0, 6.0\n",
    "fun_list = [my_add, a]  # 함수를 내용으로 갖는 리스트\n",
    "print(fun_list[0](x, y))\n",
    "print(fun_list[1]())"
   ]
  },
  {
   "cell_type": "code",
   "execution_count": null,
   "metadata": {},
   "outputs": [],
   "source": [
    "data1 = [20, 22, 30]\n",
    "print(data1[2])\n",
    "data1[2] = 25\n",
    "print(data1)"
   ]
  },
  {
   "cell_type": "code",
   "execution_count": null,
   "metadata": {},
   "outputs": [],
   "source": [
    "mylist = [1, 99, 'name', [3, 4]]\n",
    "print(mylist)\n",
    "print(mylist[-1])"
   ]
  },
  {
   "cell_type": "code",
   "execution_count": null,
   "metadata": {},
   "outputs": [],
   "source": [
    "data2 = [20, 22, 30, 25, 28]\n",
    "print(data2[1:3])\n",
    "print(data2[2:])\n",
    "print(data2[:3])"
   ]
  },
  {
   "cell_type": "code",
   "execution_count": null,
   "metadata": {},
   "outputs": [],
   "source": [
    "data2.append(99)\n",
    "print(data2)"
   ]
  },
  {
   "cell_type": "code",
   "execution_count": null,
   "metadata": {},
   "outputs": [],
   "source": [
    "data2.insert(3, 99)\n",
    "print(data2)"
   ]
  },
  {
   "cell_type": "code",
   "execution_count": null,
   "metadata": {},
   "outputs": [],
   "source": [
    "del data2[1]\n",
    "print(data2)"
   ]
  },
  {
   "cell_type": "code",
   "execution_count": null,
   "metadata": {},
   "outputs": [],
   "source": [
    "a = [1, 1, 2, 2, 3]\n",
    "print(a)\n",
    "a.remove(3)\n",
    "print(a)\n",
    "a.remove(1)\n",
    "print(a)"
   ]
  },
  {
   "cell_type": "code",
   "execution_count": null,
   "metadata": {},
   "outputs": [],
   "source": [
    "print(range(10))"
   ]
  },
  {
   "cell_type": "code",
   "execution_count": null,
   "metadata": {},
   "outputs": [],
   "source": [
    "mylist = [2*x*x for x in range(5)]\n",
    "print(mylist)"
   ]
  },
  {
   "cell_type": "code",
   "execution_count": null,
   "metadata": {},
   "outputs": [],
   "source": [
    "data_list = [1, 2, 3, 4, 5, 6]\n",
    "data2_list = [x*2 for x in data_list if x % 2 == 0]\n",
    "print(data2_list)"
   ]
  },
  {
   "cell_type": "code",
   "execution_count": null,
   "metadata": {},
   "outputs": [],
   "source": [
    "a = [x * y + x for x, y in zip(range(10), range(1, 20, 2))]\n",
    "print(a)"
   ]
  },
  {
   "cell_type": "code",
   "execution_count": null,
   "metadata": {},
   "outputs": [],
   "source": [
    "dates3 = [5, 15, 90]\n",
    "\n",
    "for idx, val in enumerate(dates3):\n",
    "    print(idx, val)"
   ]
  },
  {
   "cell_type": "code",
   "execution_count": null,
   "metadata": {},
   "outputs": [],
   "source": [
    "# 튜플\n",
    "weekdays = (\"월\", \"화\", \"수\", \"목\", \"금\", \"토\", \"일\")\n",
    "print(weekdays[1])"
   ]
  },
  {
   "cell_type": "code",
   "execution_count": null,
   "metadata": {},
   "outputs": [],
   "source": [
    "# 딕셔너리(사전)\n",
    "users = {\"id\": \"aaaa\", \"pass\": \"1234\", \"name\": \"홍길동\"}\n",
    "jum = {1: 100, 2: 200}\n",
    "\n",
    "sys_dat = {'id': ('admin', 'root', 'dba'),\n",
    "           'pass': ('1111', '2222', '3333'),\n",
    "           'roll': (1, 2, 3)}\n",
    "\n",
    "print(users[\"id\"])\n",
    "print(jum[1])\n",
    "print(sys_dat['roll'])\n",
    "\n",
    "users[\"id\"] = \"abcd\"\n",
    "print(users)\n",
    "\n",
    "jum[1] = 300\n",
    "print(jum)\n",
    "\n",
    "users[\"jum\"] = 100\n",
    "print(users)"
   ]
  },
  {
   "cell_type": "code",
   "execution_count": null,
   "metadata": {},
   "outputs": [],
   "source": [
    "dict3 = {5: 100, 15: 50, 90: 300}\n",
    "\n",
    "for key, val in dict3.items():\n",
    "    print(key, val)"
   ]
  },
  {
   "cell_type": "code",
   "execution_count": null,
   "metadata": {},
   "outputs": [],
   "source": [
    "dict3_keys = dict3.keys()\n",
    "print(type(dict3_keys))\n",
    "\n",
    "dict3[100] = 500\n",
    "print(dict3_keys)\n",
    "print(tuple(dict3_keys))"
   ]
  },
  {
   "cell_type": "code",
   "execution_count": null,
   "metadata": {},
   "outputs": [],
   "source": [
    "admins = {'admin': '1111', 'root': '3333', 'dba': '2222'}\n",
    "print(admins.keys())\n",
    "admins_key = tuple(admins.keys())\n",
    "print(admins_key)\n",
    "admins['abcd'] = '1234'\n",
    "print(admins.keys())"
   ]
  },
  {
   "cell_type": "code",
   "execution_count": null,
   "metadata": {},
   "outputs": [],
   "source": [
    "'''4. 제어문'''\n",
    "jum = 90\n",
    "if jum >= 90:\n",
    "    result = \"지옥훈련\"\n",
    "else:\n",
    "    result = \"\"\n",
    "\n",
    "print(result)"
   ]
  },
  {
   "cell_type": "code",
   "execution_count": null,
   "metadata": {},
   "outputs": [],
   "source": [
    "data_int = int(input(\"값 입력:\"))\n",
    "num = 12 if data_int == 10 else 13\n",
    "print(num)"
   ]
  },
  {
   "cell_type": "code",
   "execution_count": null,
   "metadata": {},
   "outputs": [],
   "source": [
    "rank_jum = 79\n",
    "if rank_jum >= 90:\n",
    "    rank = \"골드\"\n",
    "elif rank_jum >= 70:\n",
    "    rank = \"실버\"\n",
    "else:\n",
    "    rank = \"브론즈\"\n",
    "\n",
    "print(rank)"
   ]
  },
  {
   "cell_type": "code",
   "execution_count": null,
   "metadata": {},
   "outputs": [],
   "source": [
    "list_leagues = ['LCK', 'LPL', 'LEC', 'LCS']\n",
    "\n",
    "for my_league in list_leagues:\n",
    "    print(my_league)"
   ]
  },
  {
   "cell_type": "code",
   "execution_count": null,
   "metadata": {},
   "outputs": [],
   "source": [
    "sys_dat = {'id': ('admin', 'root', 'dba'),\n",
    "           'pass': ('1111', '2222', '3333'),\n",
    "           'roll': (1, 2, 3)}\n",
    "for key, val in sys_dat.items():\n",
    "    print(key, val)"
   ]
  },
  {
   "cell_type": "code",
   "execution_count": null,
   "metadata": {},
   "outputs": [],
   "source": [
    "for i in range(1, 10):\n",
    "    print(i, end=' ')  # 1줄에 모든 항목이 출력"
   ]
  },
  {
   "cell_type": "code",
   "execution_count": null,
   "metadata": {},
   "outputs": [],
   "source": [
    "c = 5\n",
    "\n",
    "while c > 0:\n",
    "    print(\"c = \", c)\n",
    "    c -= 1"
   ]
  },
  {
   "cell_type": "code",
   "execution_count": null,
   "metadata": {},
   "outputs": [],
   "source": [
    "j = 1\n",
    "for i in range(5):\n",
    "    j = j * 2\n",
    "    if j == 8:\n",
    "        break\n",
    "    print('i = ', i, ', j = ', j)"
   ]
  },
  {
   "cell_type": "code",
   "execution_count": null,
   "metadata": {},
   "outputs": [],
   "source": [
    "j = 1\n",
    "for i in range(5):\n",
    "    j = j * 2\n",
    "    if j == 8:\n",
    "        continue\n",
    "    print('i = ', i, ', j = ', j)"
   ]
  },
  {
   "cell_type": "code",
   "execution_count": null,
   "metadata": {},
   "outputs": [],
   "source": [
    "try:\n",
    "    answer = 1 / 0\n",
    "    print(answer)\n",
    "except ZeroDivisionError:\n",
    "    print(\"오류발생\")"
   ]
  },
  {
   "cell_type": "code",
   "execution_count": null,
   "metadata": {},
   "outputs": [],
   "source": [
    "with open('Khalani.txt', 'r') as f:\n",
    "    print(f.readlines())"
   ]
  },
  {
   "cell_type": "code",
   "execution_count": null,
   "metadata": {},
   "outputs": [],
   "source": [
    "with open('bearlist.txt', 'w') as f:\n",
    "    f.write(\"4 o'clock\\nscenery\\nwinter bear\\nsweet night\\n\")"
   ]
  },
  {
   "cell_type": "code",
   "execution_count": null,
   "metadata": {},
   "outputs": [],
   "source": [
    "'''5. 함수와 모듈'''\n",
    "\n",
    "\n",
    "def my_add(a, b):\n",
    "    return a + b\n",
    "\n",
    "\n",
    "x = int(input(\"정수값 입력1 :\"))\n",
    "y = int(input(\"정수값 입2 :\"))\n",
    "ans = my_add(x, y)\n",
    "print(ans)"
   ]
  },
  {
   "cell_type": "code",
   "execution_count": null,
   "metadata": {},
   "outputs": [],
   "source": [
    "def func_varg(x, y, *args, **kwargs):\n",
    "    print(x, y, args, kwargs)\n",
    "\n",
    "\n",
    "func_varg(7, 'key', 5, 31.4, v=2, h='test')"
   ]
  },
  {
   "cell_type": "code",
   "execution_count": null,
   "metadata": {},
   "outputs": [],
   "source": [
    "var1 = 10\n",
    "\n",
    "\n",
    "def test():\n",
    "    var1 = 20\n",
    "    print(var1)\n",
    "\n",
    "\n",
    "print(test())\n",
    "print(var1)"
   ]
  },
  {
   "cell_type": "code",
   "execution_count": null,
   "metadata": {},
   "outputs": [],
   "source": [
    "mylamf = (lambda x, y: x * x + y)\n",
    "print(mylamf(10, 5))"
   ]
  },
  {
   "cell_type": "code",
   "execution_count": null,
   "metadata": {},
   "outputs": [],
   "source": [
    "import random\n",
    "print(random.randrange(1,10))"
   ]
  },
  {
   "cell_type": "code",
   "execution_count": null,
   "metadata": {},
   "outputs": [],
   "source": [
    "import random as r\n",
    "print(r.randrange(1,10))"
   ]
  },
  {
   "cell_type": "code",
   "execution_count": null,
   "metadata": {},
   "outputs": [],
   "source": [
    "from random import randrange\n",
    "print(randrange(1,10))"
   ]
  },
  {
   "cell_type": "code",
   "execution_count": null,
   "metadata": {},
   "outputs": [],
   "source": [
    "import test\n",
    "val1 = int(input(\"값1 입력 :\"))\n",
    "val2 = int(input(\"값2 입력 :\"))\n",
    "print(test.my_mul(val1, val2) + test.my_val())"
   ]
  },
  {
   "cell_type": "code",
   "execution_count": null,
   "metadata": {},
   "outputs": [],
   "source": [
    "'''6. 클래스'''\n",
    "\n",
    "\n",
    "class Member(object):\n",
    "    def __init__(self, id, passd, name):\n",
    "        self.id = id\n",
    "        self.passd = passd\n",
    "        self.name = name\n",
    "\n",
    "    def getMember(self):\n",
    "        return self.id + ', ' + self.passd + ', ' + self.name\n",
    "\n",
    "\n",
    "my_member = Member('kingdora', '123456', '김대붕')\n",
    "print(my_member.getMember())\n",
    "print(my_member.id)"
   ]
  },
  {
   "cell_type": "code",
   "execution_count": null,
   "metadata": {},
   "outputs": [],
   "source": [
    "class Car():\n",
    "    def __init__(self, displ, drv):\n",
    "        self.__displ = displ\n",
    "        self.__drv = drv\n",
    "\n",
    "    def move(self, speed):\n",
    "        print(\"자동차 이동 속도 : 시속 {0}km\".format(speed))\n",
    "\n",
    "    def info(self):\n",
    "        print(\"자동차 정보 : ({0}, {1}구동)\".format(self.__displ, self.__drv))\n",
    "\n",
    "\n",
    "car1 = Car(3000, '4륜')\n",
    "car1.info()"
   ]
  },
  {
   "cell_type": "code",
   "execution_count": null,
   "metadata": {},
   "outputs": [],
   "source": [
    "'''7. 입출력'''\n",
    "with open('bearlist.txt', 'r') as f:  \n",
    "    for line in f:           \n",
    "        print(line)  # print(line, end='')"
   ]
  },
  {
   "cell_type": "code",
   "execution_count": null,
   "metadata": {},
   "outputs": [],
   "source": [
    "with open('data/ozone_data.csv', 'r') as f:  \n",
    "    for line in f:           \n",
    "        print(line)  # print(line, end='')"
   ]
  },
  {
   "cell_type": "code",
   "execution_count": null,
   "metadata": {},
   "outputs": [],
   "source": [
    "import pandas as pd\n",
    "df = pd.read_csv(\"data/ozone_data.csv\", encoding=\"cp949\")\n",
    "print(df)"
   ]
  },
  {
   "cell_type": "code",
   "execution_count": null,
   "metadata": {},
   "outputs": [],
   "source": [
    "with open('cover_s.png', 'rb') as f1, open('cover_s_copy.png', 'wb') as f2:\n",
    "    for line in f1:\n",
    "        f2.write(line)"
   ]
  },
  {
   "cell_type": "code",
   "execution_count": null,
   "metadata": {
    "scrolled": false
   },
   "outputs": [],
   "source": [
    "with open('cover_s.png', 'rb') as f:\n",
    "    for line in f:\n",
    "        print(line)"
   ]
  },
  {
   "cell_type": "code",
   "execution_count": null,
   "metadata": {},
   "outputs": [],
   "source": []
  }
 ],
 "metadata": {
  "kernelspec": {
   "display_name": "Python 3",
   "language": "python",
   "name": "python3"
  },
  "language_info": {
   "codemirror_mode": {
    "name": "ipython",
    "version": 3
   },
   "file_extension": ".py",
   "mimetype": "text/x-python",
   "name": "python",
   "nbconvert_exporter": "python",
   "pygments_lexer": "ipython3",
   "version": "3.6.6"
  }
 },
 "nbformat": 4,
 "nbformat_minor": 2
}
