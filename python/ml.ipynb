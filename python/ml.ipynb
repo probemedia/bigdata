{
 "cells": [
  {
   "cell_type": "code",
   "execution_count": 1,
   "metadata": {},
   "outputs": [],
   "source": [
    "import numpy as np\n",
    "import pandas as pd\n",
    "from matplotlib import pyplot as plt\n",
    "\n",
    "from matplotlib import font_manager, rc\n",
    "import platform\n",
    "\n",
    "# matplotlib 한글꺠짐 처리\n",
    "plt.rcParams['axes.unicode_minus'] = False\n",
    "\n",
    "if platform.system() == 'Darwin':\n",
    "    rc('font', family='AppleGothic')\n",
    "elif platform.system() == 'Windows':\n",
    "    path = \"c:/Windows/Fonts/malgun.ttf\"\n",
    "    font_name = font_manager.FontProperties(fname=path).get_name()\n",
    "    rc('font', family=font_name)\n",
    "else:\n",
    "    print(\"Unknown System OS\")"
   ]
  },
  {
   "cell_type": "code",
   "execution_count": 2,
   "metadata": {},
   "outputs": [
    {
     "name": "stdout",
     "output_type": "stream",
     "text": [
      "   sepal_length  sepal_width  petal_length  petal_width iris_name\n",
      "0           5.1          3.5           1.4          0.2    setosa\n",
      "1           4.9          3.0           1.4          0.2    setosa\n",
      "2           4.7          3.2           1.3          0.2    setosa\n",
      "3           4.6          3.1           1.5          0.2    setosa\n",
      "4           5.0          3.6           1.4          0.2    setosa\n"
     ]
    }
   ],
   "source": [
    "from sklearn.datasets import load_iris\n",
    "ds_iris = load_iris()\n",
    "df_iris = pd.DataFrame(ds_iris['data'], columns=ds_iris['feature_names'])\n",
    "df_iris['iris_name'] = [ds_iris['target_names'][x] for x in ds_iris['target']]\n",
    "df_iris = df_iris.rename({'sepal length (cm)': 'sepal_length',\n",
    "                          'sepal width (cm)': 'sepal_width',\n",
    "                          'petal length (cm)': 'petal_length',\n",
    "                          'petal width (cm)': 'petal_width'}, axis='columns')\n",
    "print(df_iris.head())"
   ]
  },
  {
   "cell_type": "code",
   "execution_count": 3,
   "metadata": {},
   "outputs": [
    {
     "name": "stdout",
     "output_type": "stream",
     "text": [
      "     sepal_length  sepal_width  petal_length  petal_width   iris_name\n",
      "111           6.4          2.7           5.3          1.9   virginica\n",
      "34            4.9          3.1           1.5          0.2      setosa\n",
      "140           6.7          3.1           5.6          2.4   virginica\n",
      "66            5.6          3.0           4.5          1.5  versicolor\n",
      "21            5.1          3.7           1.5          0.4      setosa\n"
     ]
    }
   ],
   "source": [
    "# 학습데이터, 시험데이터, 검증데이터로 나누기위해서 데이터를 섞음\n",
    "df_is = df_iris.sample(frac=1)  # frac=1 : 모든 데이터를 랜덤하게 섞음\n",
    "print(df_is.head())"
   ]
  },
  {
   "cell_type": "code",
   "execution_count": 4,
   "metadata": {},
   "outputs": [
    {
     "name": "stdout",
     "output_type": "stream",
     "text": [
      "     sepal_length  sepal_width  petal_length  petal_width   iris_name\n",
      "111           6.4          2.7           5.3          1.9   virginica\n",
      "34            4.9          3.1           1.5          0.2      setosa\n",
      "140           6.7          3.1           5.6          2.4   virginica\n",
      "66            5.6          3.0           4.5          1.5  versicolor\n",
      "21            5.1          3.7           1.5          0.4      setosa\n"
     ]
    }
   ],
   "source": [
    "# 학습데이터, 시험데이터, 검증데이터 준비\n",
    "# 학습데이터, 시험데이터, 검증데이터 비율 - 60:20:20\n",
    "df_it = df_is.iloc[0:120, :]  # 학습데이터-90, 시험데이터-30\n",
    "print(df_it.head())"
   ]
  },
  {
   "cell_type": "code",
   "execution_count": 5,
   "metadata": {},
   "outputs": [
    {
     "name": "stdout",
     "output_type": "stream",
     "text": [
      "     sepal_length  sepal_width  petal_length  petal_width   iris_name\n",
      "59            5.2          2.7           3.9          1.4  versicolor\n",
      "3             4.6          3.1           1.5          0.2      setosa\n",
      "50            7.0          3.2           4.7          1.4  versicolor\n",
      "137           6.4          3.1           5.5          1.8   virginica\n",
      "40            5.0          3.5           1.3          0.3      setosa\n"
     ]
    }
   ],
   "source": [
    "df_iv = df_is.iloc[120:, :]  # 검증데이터-30\n",
    "print(df_iv.head())"
   ]
  },
  {
   "cell_type": "code",
   "execution_count": 6,
   "metadata": {},
   "outputs": [
    {
     "name": "stdout",
     "output_type": "stream",
     "text": [
      "정답률 = 0.9666666666666667\n"
     ]
    }
   ],
   "source": [
    "from sklearn import svm, metrics\n",
    "from sklearn.model_selection import train_test_split\n",
    "\n",
    "# 학습 데이터와 시험 데이터로 나눔 - 비율은 생략시 75% : 25%\n",
    "# test_size=.25 는 학습데이터 0.75 - 90개, 시험데이터 0.25 - 30개\n",
    "# train_data, test_data, train_label, test_label = \\\n",
    "# train_test_split(df_it[df_it.columns[0:4]], df_it[df_it.columns[4]], test_size=.25) \n",
    "train_data, test_data, train_label, test_label = \\\n",
    " train_test_split(df_it[df_it.columns[0:4]], df_it[df_it.columns[4]])\n",
    "\n",
    "# 난수 시드 고정\n",
    "np.random.seed(202005)\n",
    "\n",
    "# 데이터 학습\n",
    "clf = svm.SVC()  # 분류기 - 서포트벡터머신 사용\n",
    "clf.fit(train_data, train_label)\n",
    "\n",
    "# 데이터 예측\n",
    "pre = clf.predict(test_data)\n",
    "\n",
    "# 정답률 구함\n",
    "ac_score = metrics.accuracy_score(test_label, pre)\n",
    "print(\"정답률 =\", ac_score)"
   ]
  },
  {
   "cell_type": "code",
   "execution_count": 7,
   "metadata": {},
   "outputs": [
    {
     "name": "stderr",
     "output_type": "stream",
     "text": [
      "C:\\Users\\KEO\\Anaconda3\\envs\\workpy\\lib\\site-packages\\sklearn\\externals\\joblib\\__init__.py:15: FutureWarning: sklearn.externals.joblib is deprecated in 0.21 and will be removed in 0.23. Please import this functionality directly from joblib, which can be installed with: pip install joblib. If this warning is raised when loading pickled models, you may need to re-serialize those models with scikit-learn 0.21+.\n",
      "  warnings.warn(msg, category=FutureWarning)\n"
     ]
    },
    {
     "data": {
      "text/plain": [
       "['iris_model.joblib']"
      ]
     },
     "execution_count": 7,
     "metadata": {},
     "output_type": "execute_result"
    }
   ],
   "source": [
    "# 학습결과를 파일로 저장\n",
    "from sklearn.externals import joblib\n",
    "joblib.dump(clf, \"iris_model.joblib\")"
   ]
  },
  {
   "cell_type": "code",
   "execution_count": 8,
   "metadata": {},
   "outputs": [
    {
     "name": "stdout",
     "output_type": "stream",
     "text": [
      "predict : versicolor - True : versicolor\n",
      "predict : setosa - True : setosa\n",
      "predict : versicolor - True : versicolor\n",
      "predict : virginica - True : virginica\n",
      "predict : setosa - True : setosa\n",
      "predict : versicolor - True : versicolor\n",
      "predict : versicolor - True : virginica\n",
      "predict : setosa - True : setosa\n",
      "predict : versicolor - True : virginica\n",
      "predict : versicolor - True : versicolor\n",
      "predict : setosa - True : setosa\n",
      "predict : versicolor - True : versicolor\n",
      "predict : versicolor - True : versicolor\n",
      "predict : virginica - True : virginica\n",
      "predict : virginica - True : virginica\n",
      "predict : setosa - True : setosa\n",
      "predict : virginica - True : virginica\n",
      "predict : versicolor - True : versicolor\n",
      "predict : versicolor - True : versicolor\n",
      "predict : versicolor - True : versicolor\n",
      "Ture rate : 0.8666666666666667\n"
     ]
    }
   ],
   "source": [
    "# 저장된 학습결과를 불러와서 검증데이터에 적용: 학습 검증\n",
    "iris_pre = joblib.load(\"iris_model.joblib\")\n",
    "result = iris_pre.predict(df_iv[df_iv.columns[0:4]])\n",
    "true_data = df_iv[df_iv.columns[4]].values\n",
    "\n",
    "# 판별한 결과 중 일부 출력해 봄\n",
    "for i in range(20):\n",
    "    print(\"predict : \" + result[i] + \" - \" + \"True : \" + true_data[i])\n",
    "\n",
    "# 판별한 결과로 정답률 계산\n",
    "rlist = 0\n",
    "for i in range(result.size):\n",
    "    if(result[i] == true_data[i]):\n",
    "        rlist += 1\n",
    "\n",
    "tr = rlist / result.size\n",
    "\n",
    "print(\"Ture rate : \" + str(tr))\n"
   ]
  },
  {
   "cell_type": "code",
   "execution_count": 9,
   "metadata": {},
   "outputs": [
    {
     "name": "stdout",
     "output_type": "stream",
     "text": [
      "분류기 성능 비교\n",
      "분류기: 로지스틱 회귀, 정답률 = 0.94737\n",
      "분류기: 나이브 베이즈, 정답률 = 0.92105\n",
      "분류기: 디시전 트리, 정답률 = 0.94737\n",
      "분류기: 랜덤 포레스트, 정답률 = 0.94737\n",
      "분류기: 서포트벡터머신, 정답률 = 0.94737\n"
     ]
    }
   ],
   "source": [
    "import numpy as np\n",
    "from matplotlib import pyplot as plt\n",
    "from sklearn.linear_model import LogisticRegression\n",
    "from sklearn.tree import DecisionTreeClassifier\n",
    "from sklearn.ensemble import RandomForestClassifier\n",
    "from sklearn.naive_bayes import GaussianNB\n",
    "from sklearn.svm import SVC\n",
    "import sklearn.metrics as metrics\n",
    "from sklearn.model_selection import train_test_split\n",
    "\n",
    "np.random.seed(202005)  # 재현성확보에 필요\n",
    "\n",
    "# 분류기 이름 -> (선 스타일, 분류기 인스턴스)\n",
    "map_classifier = {\n",
    "        '로지스틱 회귀': LogisticRegression(),\n",
    "        '나이브 베이즈': GaussianNB(),\n",
    "        '디시전 트리': DecisionTreeClassifier(max_depth=5),\n",
    "        '랜덤 포레스트': RandomForestClassifier(max_depth=5, n_estimators=10,\n",
    "                                          max_features=1),\n",
    "        '서포트벡터머신': SVC(probability=True)\n",
    "}\n",
    "\n",
    "# 데이터프레임 행을 학습/시험셋으로 나눈다.\n",
    "data, label = df_iris[df_iris.columns[:4]], df_iris[df_iris.columns[4]]\n",
    "train_data, test_data, train_label, test_label = train_test_split(data, label)\n",
    "\n",
    "print('분류기 성능 비교')\n",
    "for c_name, model in map_classifier.items():\n",
    "    model.fit(train_data, train_label)\n",
    "    # 열마다 True/False 예측값을 저장한다.\n",
    "    preds = model.predict_proba(test_data)\t # 모양: (120, 2)\n",
    "    pre = model.predict(test_data)\n",
    "    pred = pd.Series(preds[:, 1])\n",
    "    ac_score = metrics.accuracy_score(test_label, pre)\n",
    "    print(\"분류기: {0:5s}, 정답률 = {1:.5f}\".format(c_name, ac_score))"
   ]
  },
  {
   "cell_type": "code",
   "execution_count": 10,
   "metadata": {},
   "outputs": [
    {
     "name": "stdout",
     "output_type": "stream",
     "text": [
      "     sepal_length  sepal_width  petal_length  petal_width\n",
      "109           7.2          3.6           6.1          2.5\n",
      "125           7.2          3.2           6.0          1.8\n",
      "76            6.8          2.8           4.8          1.4\n",
      "82            5.8          2.7           3.9          1.2\n",
      "49            5.0          3.3           1.4          0.2\n",
      "..            ...          ...           ...          ...\n",
      "19            5.1          3.8           1.5          0.3\n",
      "142           5.8          2.7           5.1          1.9\n",
      "95            5.7          3.0           4.2          1.2\n",
      "27            5.2          3.5           1.5          0.2\n",
      "111           6.4          2.7           5.3          1.9\n",
      "\n",
      "[112 rows x 4 columns]\n"
     ]
    }
   ],
   "source": [
    "print(train_data)"
   ]
  },
  {
   "cell_type": "code",
   "execution_count": 11,
   "metadata": {},
   "outputs": [
    {
     "name": "stdout",
     "output_type": "stream",
     "text": [
      "     sepal_length  sepal_width  petal_length  petal_width\n",
      "71            6.1          2.8           4.0          1.3\n",
      "77            6.7          3.0           5.0          1.7\n",
      "149           5.9          3.0           5.1          1.8\n",
      "66            5.6          3.0           4.5          1.5\n",
      "2             4.7          3.2           1.3          0.2\n",
      "114           5.8          2.8           5.1          2.4\n",
      "140           6.7          3.1           5.6          2.4\n",
      "0             5.1          3.5           1.4          0.2\n",
      "141           6.9          3.1           5.1          2.3\n",
      "34            4.9          3.1           1.5          0.2\n",
      "57            4.9          2.4           3.3          1.0\n",
      "70            5.9          3.2           4.8          1.8\n",
      "105           7.6          3.0           6.6          2.1\n",
      "42            4.4          3.2           1.3          0.2\n",
      "92            5.8          2.6           4.0          1.2\n",
      "144           6.7          3.3           5.7          2.5\n",
      "117           7.7          3.8           6.7          2.2\n",
      "84            5.4          3.0           4.5          1.5\n",
      "133           6.3          2.8           5.1          1.5\n",
      "18            5.7          3.8           1.7          0.3\n",
      "127           6.1          3.0           4.9          1.8\n",
      "138           6.0          3.0           4.8          1.8\n",
      "80            5.5          2.4           3.8          1.1\n",
      "104           6.5          3.0           5.8          2.2\n",
      "120           6.9          3.2           5.7          2.3\n",
      "103           6.3          2.9           5.6          1.8\n",
      "87            6.3          2.3           4.4          1.3\n",
      "22            4.6          3.6           1.0          0.2\n",
      "98            5.1          2.5           3.0          1.1\n",
      "20            5.4          3.4           1.7          0.2\n",
      "9             4.9          3.1           1.5          0.1\n",
      "16            5.4          3.9           1.3          0.4\n",
      "23            5.1          3.3           1.7          0.5\n",
      "130           7.4          2.8           6.1          1.9\n",
      "52            6.9          3.1           4.9          1.5\n",
      "118           7.7          2.6           6.9          2.3\n",
      "90            5.5          2.6           4.4          1.2\n",
      "134           6.1          2.6           5.6          1.4\n"
     ]
    }
   ],
   "source": [
    "print(test_data)"
   ]
  },
  {
   "cell_type": "code",
   "execution_count": 12,
   "metadata": {},
   "outputs": [
    {
     "name": "stdout",
     "output_type": "stream",
     "text": [
      "분류기 성능 비교\n",
      "분류기: 로지스틱 회귀, 정답률 = 0.94737\n",
      "분류기: 나이브 베이즈, 정답률 = 0.92105\n",
      "분류기: 디시전 트리, 정답률 = 0.94737\n",
      "분류기: 랜덤 포레스트, 정답률 = 0.94737\n",
      "분류기: 서포트벡터머신, 정답률 = 0.94737\n"
     ]
    }
   ],
   "source": [
    "import numpy as np\n",
    "from matplotlib import pyplot as plt\n",
    "from sklearn.linear_model import LogisticRegression\n",
    "from sklearn.tree import DecisionTreeClassifier\n",
    "from sklearn.ensemble import RandomForestClassifier\n",
    "from sklearn.naive_bayes import GaussianNB\n",
    "from sklearn.svm import SVC\n",
    "import sklearn.metrics as metrics\n",
    "from sklearn.model_selection import train_test_split\n",
    "\n",
    "np.random.seed(202005)  # 재현성확보에 필요\n",
    "\n",
    "# 분류기 이름 -> (선 스타일, 분류기 인스턴스)\n",
    "map_classifier = {\n",
    "        '로지스틱 회귀': LogisticRegression(),\n",
    "        '나이브 베이즈': GaussianNB(),\n",
    "        '디시전 트리': DecisionTreeClassifier(max_depth=5),\n",
    "        '랜덤 포레스트': RandomForestClassifier(max_depth=5, n_estimators=10,\n",
    "                                          max_features=1),\n",
    "        '서포트벡터머신': SVC(probability=True)\n",
    "}\n",
    "\n",
    "# 데이터프레임 행을 학습/시험셋으로 나눈다. 데이터는 자동으로 랜덤하게 섞어서 나눔\n",
    "data, label = df_iris[df_iris.columns[:4]], df_iris[df_iris.columns[4]]\n",
    "train_data, test_data, train_label, test_label = train_test_split(data, label)\n",
    "\n",
    "print('분류기 성능 비교')\n",
    "for c_name, model in map_classifier.items():\n",
    "    model.fit(train_data, train_label)\n",
    "    # 열마다 True/False 예측값을 저장한다.\n",
    "    preds = model.predict_proba(test_data)\t # 모양: (120, 2)\n",
    "    pre = model.predict(test_data)\n",
    "    pred = pd.Series(preds[:, 1])\n",
    "    ac_score = metrics.accuracy_score(test_label, pre)\n",
    "    print(\"분류기: {0:5s}, 정답률 = {1:.5f}\".format(c_name, ac_score))"
   ]
  },
  {
   "cell_type": "code",
   "execution_count": 13,
   "metadata": {},
   "outputs": [
    {
     "name": "stdout",
     "output_type": "stream",
     "text": [
      "로지스틱 회귀: auc=0.998417\n",
      "나이브 베이즈: auc=0.960114\n",
      "디시전 트리: auc=0.860399\n",
      "랜덤 포레스트: auc=0.972934\n",
      "서포트벡터머신: auc=0.994302\n"
     ]
    },
    {
     "data": {
      "image/png": "[encoded data removed]",
      "text/plain": [
       "<Figure size 432x288 with 1 Axes>"
      ]
     },
     "metadata": {
      "needs_background": "light"
     },
     "output_type": "display_data"
    }
   ],
   "source": [
    "import numpy as np\n",
    "from matplotlib import pyplot as plt\n",
    "from sklearn.linear_model import LogisticRegression\n",
    "from sklearn.tree import DecisionTreeClassifier\n",
    "from sklearn.ensemble import RandomForestClassifier\n",
    "from sklearn.naive_bayes import GaussianNB\n",
    "from sklearn.svm import SVC\n",
    "from sklearn.metrics import roc_curve, auc\n",
    "from sklearn.model_selection import train_test_split\n",
    "\n",
    "np.random.seed(202005)  # 재현성확보에 필요\n",
    "\n",
    "# 분류기 이름 -> (선 스타일, 분류기 인스턴스)\n",
    "map_classifier = {\n",
    "        '로지스틱 회귀': ('-', LogisticRegression()),\n",
    "        '나이브 베이즈': ('--', GaussianNB()),\n",
    "        '디시전 트리': ('-.', DecisionTreeClassifier()),\n",
    "        '랜덤 포레스트': (':', RandomForestClassifier()),\n",
    "        '서포트벡터머신': ('o', SVC(probability=True))\n",
    "}\n",
    "\n",
    "# 데이터프레임 행을 학습/시험셋으로 나눈다.\n",
    "data, label = df_iris[df_iris.columns[:3]], (df_iris['iris_name'] == 'virginica')\n",
    "train_data, test_data, train_label, test_label = \\\n",
    "    train_test_split(data, label, test_size=.8)\n",
    "\n",
    "for c_name, (line_s, model) in map_classifier.items():\n",
    "    model.fit(train_data, train_label)\n",
    "    # 열마다 True/False 예측값을 저장한다.\n",
    "    preds = model.predict_proba(test_data)\t # 모양: (120, 2)\n",
    "    pred = pd.Series(preds[:, 1])\n",
    "    fpr, tpr, thresholds = roc_curve(test_label, pred)\n",
    "    auc_score = auc(fpr, tpr)\n",
    "    label = '%s: auc=%f' % (c_name, auc_score)\n",
    "    plt.plot(fpr, tpr, line_s, linewidth=5, label=label)\n",
    "    print(label)\n",
    "\n",
    "plt.legend(loc=\"lower right\")\n",
    "plt.title('분류기 성능 비교')\n",
    "\n",
    "plt.plot([0, 1], [0, 1], 'k--')  # x=y line.  Visual aid\n",
    "plt.xlim([0.0, 1.0])\n",
    "plt.ylim([0.0, 1.05])\n",
    "plt.xlabel('거짓 양성비')\n",
    "plt.ylabel('참 양성비')\n",
    "plt.show()"
   ]
  },
  {
   "cell_type": "code",
   "execution_count": 14,
   "metadata": {},
   "outputs": [
    {
     "name": "stdout",
     "output_type": "stream",
     "text": [
      "done\n"
     ]
    }
   ],
   "source": [
    "# 버섯 종류 구분\n",
    "# 1. mushroom 데이터 다운로드\n",
    "import urllib.request as req\n",
    "\n",
    "data = \"data/mushroom.csv\"\n",
    "url = \"https://archive.ics.uci.edu/ml/machine-learning-databases/mushroom/agaricus-lepiota.data\"\n",
    "req.urlretrieve(url, data)\n",
    "print(\"done\")"
   ]
  },
  {
   "cell_type": "code",
   "execution_count": 15,
   "metadata": {},
   "outputs": [],
   "source": [
    "# 2. 전처리, 문자데이터를 숫자로 변환하기\n",
    "# (1) 데이터로드\n",
    "df_mr = pd.read_csv(\"data/mushroom.csv\", header=None)\n",
    "\n",
    "label_mr = []\n",
    "data_mr = []\n",
    "\n",
    "# (2) 분류기 학습을 위해 기호를 숫자로 변환\n",
    "for row_index, row in df_mr.iterrows():\n",
    "    label_mr.append(row.loc[0])\n",
    "    row_data = []\n",
    "    for v in row.loc[1:]:\n",
    "        row_data.append(ord(v))\n",
    "    data_mr.append(row_data)"
   ]
  },
  {
   "cell_type": "code",
   "execution_count": 16,
   "metadata": {},
   "outputs": [
    {
     "name": "stderr",
     "output_type": "stream",
     "text": [
      "C:\\Users\\KEO\\Anaconda3\\envs\\workpy\\lib\\site-packages\\sklearn\\linear_model\\_logistic.py:940: ConvergenceWarning: lbfgs failed to converge (status=1):\n",
      "STOP: TOTAL NO. of ITERATIONS REACHED LIMIT.\n",
      "\n",
      "Increase the number of iterations (max_iter) or scale the data as shown in:\n",
      "    https://scikit-learn.org/stable/modules/preprocessing.html\n",
      "Please also refer to the documentation for alternative solver options:\n",
      "    https://scikit-learn.org/stable/modules/linear_model.html#logistic-regression\n",
      "  extra_warning_msg=_LOGISTIC_SOLVER_CONVERGENCE_MSG)\n"
     ]
    },
    {
     "name": "stdout",
     "output_type": "stream",
     "text": [
      "분류기 : 로지스틱 회귀\n",
      "정답률 = 0.9419005416051206\n",
      "리포트 =\n",
      "               precision    recall  f1-score   support\n",
      "\n",
      "           e       0.94      0.95      0.94      1037\n",
      "           p       0.95      0.93      0.94       994\n",
      "\n",
      "    accuracy                           0.94      2031\n",
      "   macro avg       0.94      0.94      0.94      2031\n",
      "weighted avg       0.94      0.94      0.94      2031\n",
      "\n",
      "분류기 : 나이브 베이즈\n",
      "정답률 = 0.9020187099950763\n",
      "리포트 =\n",
      "               precision    recall  f1-score   support\n",
      "\n",
      "           e       0.94      0.87      0.90      1037\n",
      "           p       0.87      0.94      0.90       994\n",
      "\n",
      "    accuracy                           0.90      2031\n",
      "   macro avg       0.90      0.90      0.90      2031\n",
      "weighted avg       0.90      0.90      0.90      2031\n",
      "\n",
      "분류기 : 결정 트리\n",
      "정답률 = 0.9763663220088626\n",
      "리포트 =\n",
      "               precision    recall  f1-score   support\n",
      "\n",
      "           e       0.99      0.97      0.98      1037\n",
      "           p       0.97      0.99      0.98       994\n",
      "\n",
      "    accuracy                           0.98      2031\n",
      "   macro avg       0.98      0.98      0.98      2031\n",
      "weighted avg       0.98      0.98      0.98      2031\n",
      "\n",
      "분류기 : 랜덤 포레스트\n",
      "정답률 = 0.9911373707533235\n",
      "리포트 =\n",
      "               precision    recall  f1-score   support\n",
      "\n",
      "           e       0.98      1.00      0.99      1037\n",
      "           p       1.00      0.98      0.99       994\n",
      "\n",
      "    accuracy                           0.99      2031\n",
      "   macro avg       0.99      0.99      0.99      2031\n",
      "weighted avg       0.99      0.99      0.99      2031\n",
      "\n",
      "분류기 : SVM\n",
      "정답률 = 0.9955686853766618\n",
      "리포트 =\n",
      "               precision    recall  f1-score   support\n",
      "\n",
      "           e       0.99      1.00      1.00      1037\n",
      "           p       1.00      0.99      1.00       994\n",
      "\n",
      "    accuracy                           1.00      2031\n",
      "   macro avg       1.00      1.00      1.00      2031\n",
      "weighted avg       1.00      1.00      1.00      2031\n",
      "\n"
     ]
    }
   ],
   "source": [
    "# 3. 버섯종류 판별 모델링\n",
    "import numpy as np\n",
    "import pandas as pd\n",
    "from sklearn.model_selection import train_test_split\n",
    "from sklearn.linear_model import LogisticRegression\n",
    "from sklearn.tree import DecisionTreeClassifier\n",
    "from sklearn.ensemble import RandomForestClassifier\n",
    "from sklearn.naive_bayes import GaussianNB\n",
    "from sklearn import svm, metrics\n",
    "\n",
    "np.random.seed(1909)  # 재현성확보에 필요\n",
    "# (1) 모델 비교에 사용할 분류기 딕셔너리로 저장\n",
    "# 분류기 이름 : (선 스타일, 분류기 인스턴스)\n",
    "map_classifier = {\n",
    "        '로지스틱 회귀': LogisticRegression(),\n",
    "        '나이브 베이즈': GaussianNB(),\n",
    "        '결정 트리': DecisionTreeClassifier(max_depth=5),\n",
    "        '랜덤 포레스트': RandomForestClassifier(max_depth=5),\n",
    "        'SVM': svm.SVC()\n",
    "}\n",
    "\n",
    "# (2) 학습 전용과 테스트 전용 데이터로 나누기\n",
    "train_data, test_data, train_label, test_label = \\\n",
    "    train_test_split(data_mr, label_mr)\n",
    "\n",
    "# 분류기 학습 및 비교\n",
    "for name, model in map_classifier.items():\n",
    "    # (3) 데이터 학습시키기\n",
    "    model.fit(train_data, train_label)\n",
    "    # (4) 데이터 예측하기\n",
    "    predict = model.predict(test_data)\n",
    "    # (5) 결과 테스트하기\n",
    "    ac_score = metrics.accuracy_score(test_label, predict)\n",
    "    cl_report = metrics.classification_report(test_label, predict)\n",
    "    print(\"분류기 :\", name)\n",
    "    print(\"정답률 =\", ac_score)\n",
    "    print(\"리포트 =\\n\", cl_report)"
   ]
  },
  {
   "cell_type": "code",
   "execution_count": 17,
   "metadata": {},
   "outputs": [
    {
     "name": "stdout",
     "output_type": "stream",
     "text": [
      "정답률 = 0.9955686853766618\n",
      "리포트 =\n",
      "               precision    recall  f1-score   support\n",
      "\n",
      "           e       0.99      1.00      1.00      1037\n",
      "           p       1.00      0.99      1.00       994\n",
      "\n",
      "    accuracy                           1.00      2031\n",
      "   macro avg       1.00      1.00      1.00      2031\n",
      "weighted avg       1.00      1.00      1.00      2031\n",
      "\n"
     ]
    }
   ],
   "source": [
    "# 4. 버섯종류 판별 학습\n",
    "import pandas as pd\n",
    "from sklearn import svm, metrics\n",
    "from sklearn.model_selection import train_test_split\n",
    "\n",
    "np.random.seed(1909)  # 재현성확보에 필요\n",
    "\n",
    "# (3) 학습 전용과 테스트 전용 데이터로 나누기\n",
    "train_data, test_data, train_label, test_label = \\\n",
    "    train_test_split(data_mr, label_mr)\n",
    "# 데이터 학습\n",
    "model = svm.SVC()\n",
    "model.fit(train_data, train_label)\n",
    "# 데이터 예측\n",
    "predict = model.predict(test_data)\n",
    "# 결과 테스트하기 --- (※6)\n",
    "ac_score = metrics.accuracy_score(test_label, predict)\n",
    "cl_report = metrics.classification_report(test_label, predict)\n",
    "print(\"정답률 =\", ac_score)\n",
    "print(\"리포트 =\\n\", cl_report)"
   ]
  },
  {
   "cell_type": "code",
   "execution_count": 18,
   "metadata": {},
   "outputs": [
    {
     "data": {
      "text/plain": [
       "['mushroom.joblib']"
      ]
     },
     "execution_count": 18,
     "metadata": {},
     "output_type": "execute_result"
    }
   ],
   "source": [
    "# 5. 버섯종류 판별 학습결과 저장\n",
    "from sklearn.externals import joblib\n",
    "joblib.dump(model, \"mushroom.joblib\")"
   ]
  },
  {
   "cell_type": "code",
   "execution_count": 19,
   "metadata": {},
   "outputs": [
    {
     "name": "stdout",
     "output_type": "stream",
     "text": [
      "Ture rate : 0.9954045626128344\n"
     ]
    }
   ],
   "source": [
    "# 6. 파일로 저장된 학습결과로 판별하기\n",
    "mushroom_pre = joblib.load(\"mushroom.joblib\")\n",
    "result = mushroom_pre.predict(train_data)\n",
    "true_dat = train_label\n",
    "\n",
    "rlist = 0\n",
    "for i in range(result.size):\n",
    "    if(result[i] == true_dat[i]):\n",
    "        rlist += 1\n",
    "\n",
    "tr = rlist / result.size\n",
    "\n",
    "print(\"Ture rate : \" + str(tr))"
   ]
  },
  {
   "cell_type": "code",
   "execution_count": 20,
   "metadata": {},
   "outputs": [],
   "source": [
    "# 회귀분석 - 당뇨병 진행 예측\n",
    "# 1. 데이터 획득\n",
    "import sklearn.datasets\n",
    "from sklearn.preprocessing import normalize\n",
    "\n",
    "diabetes = sklearn.datasets.load_diabetes()\n",
    "X = normalize(diabetes['data'])\n",
    "Y = diabetes['target']"
   ]
  },
  {
   "cell_type": "code",
   "execution_count": 21,
   "metadata": {},
   "outputs": [],
   "source": [
    "# mape를 구하는 mean_absolute_percentage_error() 함수 작성\n",
    "import numpy as np\n",
    "\n",
    "\n",
    "def mean_absolute_percentage_error(actual, pred):\n",
    "    actual, pred = np.array(actual), np.array(pred)\n",
    "    return np.mean(np.abs((actual - pred) / actual)) * 100"
   ]
  },
  {
   "cell_type": "code",
   "execution_count": 23,
   "metadata": {},
   "outputs": [
    {
     "name": "stdout",
     "output_type": "stream",
     "text": [
      "\n",
      "\n",
      "선형 회귀\n",
      "상관 계수: 0.706 결정 계수-R2: 0.492\n",
      "선형 계수:\n",
      "[  4.06759078 -34.40498059  73.58908943  48.88181208 -62.0386444\n",
      "  22.15833163   9.72470579  53.31658404  92.71574252   7.34641601]\n",
      "MAPE: 37.2626328305773 RMSE: 2972.7213991781914\n"
     ]
    },
    {
     "data": {
      "image/png": "[encoded data removed]",
      "text/plain": [
       "<Figure size 432x288 with 1 Axes>"
      ]
     },
     "metadata": {
      "needs_background": "light"
     },
     "output_type": "display_data"
    },
    {
     "name": "stdout",
     "output_type": "stream",
     "text": [
      "\n",
      "\n",
      "라쏘 회귀\n",
      "상관 계수: 0.709 결정 계수-R2: 0.493\n",
      "선형 계수:\n",
      "[  0.         -19.24000039  71.54893135  40.38645081  -0.\n",
      "  -0.         -25.65915874   7.241206    77.96700382   0.18507012]\n",
      "MAPE: 39.26331891492654 RMSE: 2965.2592192423394\n"
     ]
    },
    {
     "data": {
      "image/png": "[encoded data removed]",
      "text/plain": [
       "<Figure size 432x288 with 1 Axes>"
      ]
     },
     "metadata": {
      "needs_background": "light"
     },
     "output_type": "display_data"
    },
    {
     "name": "stdout",
     "output_type": "stream",
     "text": [
      "\n",
      "\n",
      "릿지 회귀\n",
      "상관 계수: 0.708 결정 계수-R2: 0.497\n",
      "선형 계수:\n",
      "[  4.34519512 -33.23538977  72.10305034  47.47460233 -12.15161521\n",
      " -13.35777651 -16.30367813  40.6643456   74.8507446    8.19175345]\n",
      "MAPE: 37.197437905020934 RMSE: 2946.8571652918517\n"
     ]
    },
    {
     "data": {
      "image/png": "[encoded data removed]",
      "text/plain": [
       "<Figure size 432x288 with 1 Axes>"
      ]
     },
     "metadata": {
      "needs_background": "light"
     },
     "output_type": "display_data"
    },
    {
     "name": "stdout",
     "output_type": "stream",
     "text": [
      "\n",
      "\n",
      "엘라스틱 넷 회귀\n",
      "상관 계수: 0.685 결정 계수-R2: 0.254\n",
      "선형 계수:\n",
      "[ 4.41195679 -2.43918242 17.6083608  12.74459053  3.90560305  1.1319636\n",
      " -9.44909646 10.43901954 18.07971686  7.79347749]\n",
      "MAPE: 55.92480062817581 RMSE: 4366.658132286789\n"
     ]
    },
    {
     "data": {
      "image/png": "[encoded data removed]",
      "text/plain": [
       "<Figure size 432x288 with 1 Axes>"
      ]
     },
     "metadata": {
      "needs_background": "light"
     },
     "output_type": "display_data"
    },
    {
     "name": "stdout",
     "output_type": "stream",
     "text": [
      "\n",
      "\n",
      "서포트 벡터 회귀\n",
      "상관 계수: 0.686 결정 계수-R2: 0.206\n",
      "MAPE: 51.67384376350266 RMSE: 4645.570127457102\n"
     ]
    },
    {
     "data": {
      "image/png": "[encoded data removed]",
      "text/plain": [
       "<Figure size 432x288 with 1 Axes>"
      ]
     },
     "metadata": {
      "needs_background": "light"
     },
     "output_type": "display_data"
    },
    {
     "name": "stdout",
     "output_type": "stream",
     "text": [
      "\n",
      "\n",
      "랜덤 포레스트 회귀\n",
      "상관 계수: 0.638 결정 계수-R2: 0.4\n",
      "MAPE: 39.6561378668203 RMSE: 3510.4006438811507\n"
     ]
    },
    {
     "data": {
      "image/png": "[encoded data removed]",
      "text/plain": [
       "<Figure size 432x288 with 1 Axes>"
      ]
     },
     "metadata": {
      "needs_background": "light"
     },
     "output_type": "display_data"
    }
   ],
   "source": [
    "# 2. 모델링\n",
    "import pandas as pd\n",
    "from matplotlib import pyplot as plt\n",
    "from sklearn.model_selection import train_test_split\n",
    "from sklearn.linear_model import LinearRegression, Lasso, Ridge, ElasticNet\n",
    "from sklearn.ensemble import RandomForestRegressor\n",
    "from sklearn.svm import SVR\n",
    "from sklearn.metrics import r2_score\n",
    "from sklearn.metrics import mean_squared_error\n",
    "\n",
    "np.random.seed(190811)  # 재현성확보에 필요\n",
    "# (1) 모델링에 사용할 모델\n",
    "map_regression = {\n",
    "        '선형 회귀': LinearRegression(),\n",
    "        '라쏘 회귀': Lasso(),\n",
    "        '릿지 회귀': Ridge(),\n",
    "        '엘라스틱 넷 회귀': ElasticNet(),\n",
    "        '서포트 벡터 회귀': SVR(C=1.0, epsilon=0.2),\n",
    "        '랜덤 포레스트 회귀': RandomForestRegressor(max_depth=5)\n",
    "}\n",
    "\n",
    "# 학습 전용과 테스트 전용 데이터로 나누기\n",
    "train_X, test_X, train_Y, test_Y = train_test_split(X, Y)\n",
    "\n",
    "# 데이터 학습\n",
    "for name, model in map_regression.items():\n",
    "    # (3) 데이터 학습\n",
    "    model.fit(train_X, train_Y)\n",
    "    # (4) 데이터 예측\n",
    "    predict = model.predict(test_X)\n",
    "    # (5) 결과 테스트\n",
    "    corr = round(pd.Series(predict).corr(pd.Series(test_Y)), 3)\n",
    "    rsquared = round(r2_score(test_Y, predict), 3)\n",
    "    print(\"\\n\")\n",
    "    print(name)\n",
    "    print(\"상관 계수:\", corr, \"결정 계수-R2:\", rsquared)\n",
    "    if(name not in ['서포트 벡터 회귀', '랜덤 포레스트 회귀']):\n",
    "        print(\"선형 계수:\")\n",
    "        print(model.coef_)\n",
    "    \n",
    "    #머신러닝 회귀분석 예측모델 평가\n",
    "    mape = mean_absolute_percentage_error(test_Y, predict)\n",
    "    rmse = mean_squared_error(test_Y, predict)\n",
    "    print(\"MAPE:\", mape, \"RMSE:\", rmse)\n",
    "    \n",
    "    # 시각화\n",
    "    plt.scatter(predict, test_Y)\n",
    "    plt.title(\"선형 회귀 결과: %s. 상관계수=%f, $R^2$ 점수=%f\" % (name, corr, rsquared))\n",
    "    plt.xlabel(\"예측값\")\n",
    "    plt.ylabel(\"실제값\")\n",
    "    # 비교를 위해 x=y 라인 추가\n",
    "    plt.plot(test_Y , test_Y , 'k--')\n",
    "    plt.show()"
   ]
  }
 ],
 "metadata": {
  "kernelspec": {
   "display_name": "Python 3",
   "language": "python",
   "name": "python3"
  },
  "language_info": {
   "codemirror_mode": {
    "name": "ipython",
    "version": 3
   },
   "file_extension": ".py",
   "mimetype": "text/x-python",
   "name": "python",
   "nbconvert_exporter": "python",
   "pygments_lexer": "ipython3",
   "version": "3.7.7"
  }
 },
 "nbformat": 4,
 "nbformat_minor": 4
}
