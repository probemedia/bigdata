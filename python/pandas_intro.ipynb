# -*- coding: utf-8 -*-
"""
Created on Tue May 12 09:43:11 2020

@author: KEO
"""

import pandas as pd

# %%
# (1)  데이터프레임타입, 시리즈 타입
data_dic = {'번호': [1, 2, 3, 4, 5],
            '이름': ['김씨', '이씨', '박씨', '정씨', '홍씨'],
            '점수': [90, 100, 95, 90, 100]}

data_df = pd.DataFrame(data_dic)
type(data_df)
type(data_df['번호'])

# %%
# (3) 데이터 프레임 생성
df_direct = pd.DataFrame({'id': ('admin', 'root', 'dba'),
                          'pass': ('1111', '2222', '3333'),
                          'roll': (1, 2, 3)})
df_direct

df_ozone = pd.read_csv("data/ozone_data.csv", encoding='cp949')
df_ozone

df_bd = pd.read_csv("data/20190309_very_big.csv")
df_bd

# csv한글파일명의 경우 파일을 읽을 때  engine="python"추가
df = pd.read_csv("data/20200511_1999-2018년_월간_온실가스1.csv",
                 encoding='cp949', engine="python")

df_ol = pd.read_excel('data/20180217_2017년서울시구별노령화지수.xlsx')
df_ol

df1 = pd.read_excel('data/20200426_excel_test.xlsx', sheet_name=0)
df1

df2 = pd.read_excel('data/20200426_excel_test.xlsx',
                    sheet_name='유형별해양사고현황2002-2012')
df2

df2.to_csv("data/유형별해양사고현황2002-2012.csv")

# %%
# toy data
from sklearn.datasets import load_iris
iris_d = load_iris()
df_iris = pd.DataFrame(iris_d.data, columns=iris_d.feature_names)

# %%
# (4)데이터프레임과 시리즈 타입확인
type(df_ol)
type(df_ol['자치구'])
df_ol.dtypes

df_ozone.dtypes

df_ozone[['일시', '평균오존전량(DU)']].plot()
df_ozone['일시'] = pd.to_datetime(df_ozone['일시'])
# df_ozone['일시'] = df_ozone['일시'].astype('datetime64[ns]')
df_ozone.dtypes

df_ozone_vis = df_ozone[['일시', '평균오존전량(DU)']]
df_ozone_vis
df_ozone_vis.set_index('일시', inplace=True)
df_ozone_vis.plot()

# %%
# 그래프 한글처리
import matplotlib as mpl
import matplotlib.pyplot as plt
import platform

plt.rcParams['axes.unicode_minus'] = False

if platform.system() == 'Darwin':
    mpl.rc('font', family='AppleGothic')
elif platform.system() == 'Windows':
    path = "c:/Windows/Fonts/malgun.ttf"
    font_name = mpl.font_manager.FontProperties(fname=path).get_name()
    mpl.rc('font', family=font_name)
else:
    print("Unknown System OS")

# %%
df_ozone2 = pd.read_csv('data/ozone_data.csv', encoding="cp949")
df_ozone2["일시"] = df_ozone2["일시"].astype("datetime64[ns]")
df_ozone2.plot(x="일시", y="평균오존전량(DU)")

# %%
import matplotlib.pyplot as plt
df_ozone = pd.read_csv("data/ozone_data.csv", encoding='cp949')
df_ozone
dates = list(df_ozone.loc[:, '일시'])
dates
oz = list(df_ozone.loc[:, '평균오존전량(DU)'])
oz

plt.figure(figsize=(12, 3))
plt.clf()
plt.plot(dates, oz, 'k-')
plt.xticks(rotation=45)
plt.grid()
plt.show()

# %%
# (5) 데이터의 내용과 구조 파악
df = pd.read_csv("data/20200511_ghg.csv", encoding='cp949')

df
df.head()
df.tail()
df.info()
df.shape
df['시간'] = pd.to_datetime(df['시간'])

df.info()
df.describe()
df.isnull().sum()
df.columns
df.values

df1 = pd.read_excel('data/20200426_excel_test.xlsx', sheet_name=0)
df1
df1.head()
df1.tail()
df1.info()
df1.describe()

# %%
# (6) 기본적인 연산방법
df1.head()

# 1) 변수단위로 연산
df1['남자인구수'] + df1['여자인구수']
df1['인구수'] / df1['세대수']

# 2) NaN값이 포함된 연산의 결과는 항상 NaN
df.info()
df.head()
df.columns
df['CO2_ppm'].isnull().sum()
df['CH4_ppm'].isnull().sum()

df_x = df['CO2_ppm'] + df['CH4_ppm']
df_x.head()
df_x.isnull().sum()

# %%
# (7) 주요 통계함수
df.describe()
df['CO2_ppm'].sum()
df['CH4_ppm'].sum()

df['CO2_ppm'].mean()

df['CO2_ppm'].count()
df['CH4_ppm'].count()

df['CO2_ppm'].mode()
df['CH4_ppm'].mode()

df['CH4_ppm'].min()
df['CH4_ppm'].max()

df['CO2_ppm'].median()
df['CH4_ppm'].median()

df['CO2_ppm'].quantile(0.25)
df['CO2_ppm'].quantile(0.5)
df['CO2_ppm'].quantile(0.75)

df['CH4_ppm'].quantile(0.25)
df['CH4_ppm'].quantile(0.5)
df['CH4_ppm'].quantile(0.75)

df['CO2_ppm'].var()
df['CO2_ppm'].std()
df['CH4_ppm'].var()
df['CH4_ppm'].std()

df['CO2_ppm'].round(2)
round(df['CO2_ppm'].std(), 2)

# %%
# (8) 함수 적용
df['CO2_ppm'] * df['CO2_ppm']
df['CO2_ppm'].apply(lambda x: x * x)


def func_test(x):
    if x >= 400:
        y = x * x
    else:
        y = x * 2
    return y


df['CO2_ppm']
df['CO2_ppm'].apply(func_test)
