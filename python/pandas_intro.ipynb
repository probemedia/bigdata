{
 "cells": [
  {
   "cell_type": "code",
   "execution_count": 1,
   "metadata": {},
   "outputs": [],
   "source": [
    "import pandas as pd"
   ]
  },
  {
   "cell_type": "code",
   "execution_count": 2,
   "metadata": {},
   "outputs": [
    {
     "name": "stdout",
     "output_type": "stream",
     "text": [
      "<class 'pandas.core.frame.DataFrame'>\n",
      "<class 'pandas.core.series.Series'>\n"
     ]
    }
   ],
   "source": [
    "# (1)  데이터프레임타입, 시리즈 타입\n",
    "data_dic = {'번호': [1, 2, 3, 4, 5],\n",
    "            '이름': ['김씨', '이씨', '박씨', '정씨', '홍씨'],\n",
    "            '점수': [90, 100, 95, 90, 100]}\n",
    "\n",
    "data_df = pd.DataFrame(data_dic)\n",
    "print(type(data_df))\n",
    "print(type(data_df['번호']))"
   ]
  },
  {
   "cell_type": "code",
   "execution_count": 3,
   "metadata": {},
   "outputs": [
    {
     "name": "stdout",
     "output_type": "stream",
     "text": [
      "      id  pass  roll\n",
      "0  admin  1111     1\n",
      "1   root  2222     2\n",
      "2    dba  3333     3\n"
     ]
    }
   ],
   "source": [
    "# (3) 데이터 프레임 생성\n",
    "df_direct = pd.DataFrame({'id': ('admin', 'root', 'dba'),\n",
    "                          'pass': ('1111', '2222', '3333'),\n",
    "                          'roll': (1, 2, 3)})\n",
    "print(df_direct)"
   ]
  },
  {
   "cell_type": "code",
   "execution_count": 4,
   "metadata": {},
   "outputs": [
    {
     "name": "stdout",
     "output_type": "stream",
     "text": [
      "     지점       일시  평균오존전량(DU)\n",
      "0   132  2013-02         322\n",
      "1   132  2013-03         340\n",
      "2   132  2013-04         329\n",
      "3   132  2013-05         347\n",
      "4   132  2013-06         325\n",
      "5   132  2013-07         299\n",
      "6   132  2013-08         301\n",
      "7   132  2013-09         300\n",
      "8   132  2013-10         279\n",
      "9   132  2013-11         307\n",
      "10  132  2013-12         331\n",
      "11  132  2014-01         327\n",
      "12  132  2014-02         348\n",
      "13  132  2014-03         361\n",
      "14  132  2014-04         344\n",
      "15  132  2014-05         346\n",
      "16  132  2014-06         338\n",
      "17  132  2014-07         305\n",
      "18  132  2014-08         297\n",
      "19  132  2014-09         293\n",
      "20  132  2014-10         283\n",
      "21  132  2014-11         294\n",
      "22  132  2014-12         333\n",
      "23  132  2015-01         329\n",
      "24  132  2015-02         379\n",
      "25  132  2015-03         381\n",
      "26  132  2015-04         361\n",
      "27  132  2015-05         342\n",
      "28  132  2015-06         339\n",
      "29  132  2015-07         308\n",
      "30  132  2015-08         304\n"
     ]
    }
   ],
   "source": [
    "df_ozone = pd.read_csv(\"data/ozone_data.csv\", encoding='cp949')\n",
    "print(df_ozone)"
   ]
  },
  {
   "cell_type": "code",
   "execution_count": 5,
   "metadata": {},
   "outputs": [
    {
     "name": "stdout",
     "output_type": "stream",
     "text": [
      "            관리기관명                 소재지도로명주소                        소재지지번주소  \\\n",
      "0       경상남도 거제시청      경상남도 거제시 남부면 여차길 12   경상남도 거제시 남부면 다포리 41 (여차마을회관)   \n",
      "1       경상남도 거제시청   경상남도 거제시 남부면 명사해수욕장길 7  경상남도 거제시 남부면 저구리 307-2 명사초등학교   \n",
      "2       경상남도 거제시청   경상남도 거제시 남부면 명사해수욕장길 7  경상남도 거제시 남부면 저구리 307-2 명사초등학교   \n",
      "3       경상남도 거제시청  경상남도 거제시 남부면 명사해수욕장길 11    경상남도 거제시 남부면 저구리 311 명사초등학교   \n",
      "4       경상남도 거제시청                      NaN  경상남도 거제시 남부면 저구리 248-5 명사초등학교   \n",
      "...           ...                      ...                            ...   \n",
      "65528  서울특별시 강북구청      서울특별시 강북구 덕릉로40길 75            서울특별시 강북구 번2동 434-8   \n",
      "65529  서울특별시 강북구청      서울특별시 강북구 덕릉로 152-8           서울특별시 강북구 번2동 436-29   \n",
      "65530  서울특별시 강북구청     서울특별시 강북구 한천로109길 82            서울특별시 강북구 번3동 157-3   \n",
      "65531  서울특별시 강북구청     서울특별시 강북구 한천로120길 40            서울특별시 강북구 번1동 427-1   \n",
      "65532  서울특별시 강북구청     서울특별시 강북구 인수봉로38가길 1          서울특별시 강북구 수유1동 468-99   \n",
      "\n",
      "      설치목적구분  카메라대수 카메라화소수 촬영방면정보  보관일수     설치년월      관리기관전화번호           위도  \\\n",
      "0         방재      1    200    NaN  30.0  2013-10  055-639-3684   34.7140417   \n",
      "1       아동방범      1    200    NaN  30.0  2013-12  055-639-3684   34.7253111   \n",
      "2       아동방범      1    200    NaN  30.0  2013-12  055-639-3684   34.7253111   \n",
      "3       초등학교      1     41    NaN  30.0  2013-01  055-639-3684   34.7255556   \n",
      "4       아동방범      1    200    NaN  30.0  2013-12  055-639-3684   34.7257256   \n",
      "...      ...    ...    ...    ...   ...      ...           ...          ...   \n",
      "65528   생활방범      1     41    NaN  30.0  2010-03   02-901-7263  37.63430786   \n",
      "65529   생활방범      1     41    NaN  30.0  2010-03   02-901-7263  37.63475418   \n",
      "65530   생활방범      1    200    NaN  30.0  2015-01   02-901-7263  37.62712479   \n",
      "65531   생활방범      1     41    NaN  30.0  2010-03   02-901-7263   37.6362381   \n",
      "65532   생활방범      1    200    NaN  30.0  2015-01   02-901-7263  37.63175583   \n",
      "\n",
      "                경도     데이터기준일자  \n",
      "0      128.6270472  2015-09-07  \n",
      "1      128.6046944  2015-09-07  \n",
      "2      128.6046944  2015-09-07  \n",
      "3      128.6033722  2015-09-07  \n",
      "4      128.6031056  2015-09-07  \n",
      "...            ...         ...  \n",
      "65528  127.0334625  2016-09-01  \n",
      "65529  127.0308228  2016-09-01  \n",
      "65530  127.0398178  2016-09-01  \n",
      "65531  127.0372314  2016-09-01  \n",
      "65532  127.0145874  2016-09-01  \n",
      "\n",
      "[65533 rows x 13 columns]\n"
     ]
    }
   ],
   "source": [
    "df_bd = pd.read_csv(\"data/20190309_very_big.csv\")\n",
    "print(df_bd)"
   ]
  },
  {
   "cell_type": "code",
   "execution_count": 6,
   "metadata": {},
   "outputs": [
    {
     "name": "stdout",
     "output_type": "stream",
     "text": [
      "      지점       시간  CO2_ppm  CH4_ppm  N2O_ppm  CFC11_ppm  CFC12_ppm  \\\n",
      "0    안면도  1999-01    373.1      NaN      NaN        NaN        NaN   \n",
      "1    안면도  1999-02    374.0      NaN    315.2      266.9      534.1   \n",
      "2    안면도  1999-03    374.9      NaN    314.6      267.5      535.1   \n",
      "3    안면도  1999-04    375.1   1869.0    314.2      266.7      534.7   \n",
      "4    안면도  1999-05    374.0   1863.0    314.6      268.6      535.1   \n",
      "..   ...      ...      ...      ...      ...        ...        ...   \n",
      "211  안면도  2020-08    402.1   1920.0    330.4      239.9      533.1   \n",
      "212  안면도  2020-09    404.3   1984.0    330.6      236.8      519.7   \n",
      "213  안면도  2020-10    408.8   1991.0    330.1      243.0      534.1   \n",
      "214  안면도  2020-11    411.8   1991.0    329.7      249.1      550.0   \n",
      "215  안면도  2020-12    413.2   1980.0    329.5      243.3      542.4   \n",
      "\n",
      "     CFC113_ppm  SF6_ppm  \n",
      "0           NaN      NaN  \n",
      "1           NaN      NaN  \n",
      "2           NaN      NaN  \n",
      "3           NaN      NaN  \n",
      "4           NaN      NaN  \n",
      "..          ...      ...  \n",
      "211        73.5      9.2  \n",
      "212        72.3      9.3  \n",
      "213        72.9      NaN  \n",
      "214        74.2      9.4  \n",
      "215        73.6      9.5  \n",
      "\n",
      "[216 rows x 9 columns]\n"
     ]
    }
   ],
   "source": [
    "# csv한글파일명의 경우 파일을 읽을 때  engine=\"python\"추가\n",
    "df = pd.read_csv(\"data/20200511_1999-2018년_월간_온실가스1.csv\",\n",
    "                 encoding='cp949', engine=\"python\")\n",
    "print(df)"
   ]
  },
  {
   "cell_type": "code",
   "execution_count": 7,
   "metadata": {},
   "outputs": [
    {
     "name": "stdout",
     "output_type": "stream",
     "text": [
      "      기간   자치구  유년부양비  노년부양비  노령화지수\n",
      "0   2017   서울시   14.9   17.9  120.1\n",
      "1   2017   종로구   12.0   21.2  176.7\n",
      "2   2017    중구   11.8   21.1  178.6\n",
      "3   2017   용산구   13.8   20.2  146.1\n",
      "4   2017   성동구   14.4   17.4  120.9\n",
      "5   2017   광진구   13.2   15.2  114.7\n",
      "6   2017  동대문구   13.2   20.3  154.2\n",
      "7   2017   중랑구   13.5   19.0  141.0\n",
      "8   2017   성북구   15.7   19.7  125.5\n",
      "9   2017   강북구   13.3   23.6  177.3\n",
      "10  2017   도봉구   14.5   20.9  144.6\n",
      "11  2017   노원구   16.5   17.9  108.5\n",
      "12  2017   은평구   15.3   20.6  134.8\n",
      "13  2017  서대문구   14.0   20.4  145.7\n",
      "14  2017   마포구   15.1   17.0  112.5\n",
      "15  2017   양천구   17.4   15.5   88.6\n",
      "16  2017   강서구   15.8   16.5  104.7\n",
      "17  2017   구로구   15.6   17.8  114.1\n",
      "18  2017   금천구   12.6   17.5  139.3\n",
      "19  2017  영등포구   13.7   17.6  128.4\n",
      "20  2017   동작구   14.2   18.6  130.9\n",
      "21  2017   관악구   11.2   17.3  154.5\n",
      "22  2017   서초구   19.0   16.1   85.1\n",
      "23  2017   강남구   16.1   15.2   94.5\n",
      "24  2017   송파구   16.7   15.0   89.9\n",
      "25  2017   강동구   15.7   16.9  107.7\n"
     ]
    }
   ],
   "source": [
    "df_ol = pd.read_excel('data/20180217_2017년서울시구별노령화지수.xlsx')\n",
    "print(df_ol)"
   ]
  },
  {
   "cell_type": "code",
   "execution_count": 8,
   "metadata": {},
   "outputs": [
    {
     "name": "stdout",
     "output_type": "stream",
     "text": [
      "     자치구     세대수     인구수   남자인구수   여자인구수\n",
      "0    종로구   73668  164640   80173   84467\n",
      "1     중구   60130  134174   66064   68110\n",
      "2    용산구  107090  243922  119056  124866\n",
      "3    성동구  132415  312933  154253  158680\n",
      "4    광진구  160085  372414  180737  191677\n",
      "5   동대문구  160029  367769  182000  185769\n",
      "6    중랑구  179002  414554  206011  208543\n",
      "7    성북구  187822  458261  222474  235787\n",
      "8    강북구  142165  329042  160842  168200\n",
      "9    도봉구  137269  347338  170134  177204\n",
      "10   노원구  218469  562278  273212  289066\n",
      "11   은평구  202391  491899  238733  253166\n",
      "12  서대문구  137509  326479  156070  170409\n",
      "13   마포구  169626  387776  184480  203296\n",
      "14   양천구  176811  476627  235246  241381\n",
      "15   강서구  252683  607877  296157  311720\n",
      "16   구로구  171861  443288  222088  221200\n",
      "17   금천구  105862  253646  129741  123905\n",
      "18  영등포구  166733  401908  202137  199771\n",
      "19   동작구  173474  410703  199978  210725\n",
      "20   관악구  254964  522849  263162  259687\n",
      "21   서초구  173885  447177  214389  232788\n",
      "22   강남구  233583  565731  271093  294638\n",
      "23   송파구  262611  668366  325253  343113\n",
      "24   강동구  178864  446760  221954  224806\n"
     ]
    }
   ],
   "source": [
    "df1 = pd.read_excel('data/20200426_excel_test.xlsx', sheet_name=0)\n",
    "print(df1)"
   ]
  },
  {
   "cell_type": "code",
   "execution_count": 9,
   "metadata": {},
   "outputs": [
    {
     "name": "stdout",
     "output_type": "stream",
     "text": [
      "      시점   총계   충돌  접촉  좌초  전복  화재/폭발  침몰  행방불명  기관손상  추진기손상  키손상  속구손상  조난  \\\n",
      "0   1998  772  147   5  77  14     60  84     4   242     24   10     2  48   \n",
      "1   1999  849  173   2  68  27     67  90     4   269     18   15     2  24   \n",
      "2   2000  634  130  11  58  19     48  63     2   196      8    5     1  23   \n",
      "3   2001  610  141  15  60  21     62  72     1   135      8    6     1  25   \n",
      "4   2002  557  184  13  58  29     42  55     0   110      9    3     0  18   \n",
      "5   2003  531  182   9  65  22     53  50     2    57     12    1     2  21   \n",
      "6   2004  804  210  12  75  35     57  69     1   147     17   12     0  45   \n",
      "7   2005  658  172  10  46  22     71  45     1   166     17   14     0  16   \n",
      "8   2006  657  167  17  66  16     41  25     0   195     11   14     0  11   \n",
      "9   2007  566  148   9  39  21     37  19     1   185      4   17     0   8   \n",
      "10  2008  480  125  15  32   8     25  18     0   145      7   14     0  11   \n",
      "11  2009  723  160  10  43  18     34  22     2   253     16   29     0  16   \n",
      "12  2010  737  174  22  64  17     25  22     0   236      8   24     1   9   \n",
      "13  2011  946  208  23  64  38     57  27     0   261     13   18     1  41   \n",
      "14  2012  726  157  21  53  25     55  26    11   178      7   13     0  44   \n",
      "\n",
      "    시설물손상  인명사상  안전운항저해  해양오염  기타  \n",
      "0       4     8      43     0   0  \n",
      "1       2    13      73     2   0  \n",
      "2       0    19      51     0   0  \n",
      "3       1    17      44     1   0  \n",
      "4       3    20      13     0   0  \n",
      "5       0    43      12     0   0  \n",
      "6       1    80      42     1   0  \n",
      "7       2    34      41     1   0  \n",
      "8       1    20      68     5   0  \n",
      "9       1    11      65     1   0  \n",
      "10      2    17      61     0   0  \n",
      "11      1    21      96     2   0  \n",
      "12      4    33      91     7   0  \n",
      "13      4    82     101     8   0  \n",
      "14      3    57      68     8   0  \n"
     ]
    }
   ],
   "source": [
    "df2 = pd.read_excel('data/20200426_excel_test.xlsx',\n",
    "                    sheet_name='유형별해양사고현황2002-2012')\n",
    "print(df2)"
   ]
  },
  {
   "cell_type": "code",
   "execution_count": 10,
   "metadata": {},
   "outputs": [],
   "source": [
    "df2.to_csv(\"data/유형별해양사고현황2002-2012.csv\")"
   ]
  },
  {
   "cell_type": "code",
   "execution_count": 11,
   "metadata": {},
   "outputs": [
    {
     "name": "stdout",
     "output_type": "stream",
     "text": [
      "     sepal length (cm)  sepal width (cm)  petal length (cm)  petal width (cm)\n",
      "0                  5.1               3.5                1.4               0.2\n",
      "1                  4.9               3.0                1.4               0.2\n",
      "2                  4.7               3.2                1.3               0.2\n",
      "3                  4.6               3.1                1.5               0.2\n",
      "4                  5.0               3.6                1.4               0.2\n",
      "..                 ...               ...                ...               ...\n",
      "145                6.7               3.0                5.2               2.3\n",
      "146                6.3               2.5                5.0               1.9\n",
      "147                6.5               3.0                5.2               2.0\n",
      "148                6.2               3.4                5.4               2.3\n",
      "149                5.9               3.0                5.1               1.8\n",
      "\n",
      "[150 rows x 4 columns]\n"
     ]
    }
   ],
   "source": [
    "# toy data\n",
    "from sklearn.datasets import load_iris\n",
    "iris_d = load_iris()\n",
    "df_iris = pd.DataFrame(iris_d.data, columns=iris_d.feature_names)\n",
    "print(df_iris)"
   ]
  },
  {
   "cell_type": "code",
   "execution_count": 12,
   "metadata": {},
   "outputs": [
    {
     "name": "stdout",
     "output_type": "stream",
     "text": [
      "<class 'pandas.core.frame.DataFrame'>\n",
      "<class 'pandas.core.series.Series'>\n"
     ]
    }
   ],
   "source": [
    "# (4)데이터프레임과 시리즈 타입확인\n",
    "print(type(df_ol))\n",
    "print(type(df_ol['자치구']))"
   ]
  },
  {
   "cell_type": "code",
   "execution_count": 13,
   "metadata": {},
   "outputs": [
    {
     "name": "stdout",
     "output_type": "stream",
     "text": [
      "기간         int64\n",
      "자치구       object\n",
      "유년부양비    float64\n",
      "노년부양비    float64\n",
      "노령화지수    float64\n",
      "dtype: object\n",
      "지점             int64\n",
      "일시            object\n",
      "평균오존전량(DU)     int64\n",
      "dtype: object\n"
     ]
    }
   ],
   "source": [
    "print(df_ol.dtypes)\n",
    "\n",
    "print(df_ozone.dtypes)"
   ]
  },
  {
   "cell_type": "code",
   "execution_count": 14,
   "metadata": {},
   "outputs": [],
   "source": [
    "# 그래프 한글처리\n",
    "import matplotlib as mpl\n",
    "import matplotlib.pyplot as plt\n",
    "import platform\n",
    "\n",
    "plt.rcParams['axes.unicode_minus'] = False\n",
    "\n",
    "if platform.system() == 'Darwin':\n",
    "    mpl.rc('font', family='AppleGothic')\n",
    "elif platform.system() == 'Windows':\n",
    "    path = \"c:/Windows/Fonts/malgun.ttf\"\n",
    "    font_name = mpl.font_manager.FontProperties(fname=path).get_name()\n",
    "    mpl.rc('font', family=font_name)\n",
    "else:\n",
    "    print(\"Unknown System OS\")"
   ]
  },
  {
   "cell_type": "code",
   "execution_count": 15,
   "metadata": {},
   "outputs": [
    {
     "data": {
      "text/plain": [
       "<matplotlib.axes._subplots.AxesSubplot at 0x21720b2a508>"
      ]
     },
     "execution_count": 15,
     "metadata": {},
     "output_type": "execute_result"
    },
    {
     "data": {
      "image/png": "[encoded data removed]",
      "text/plain": [
       "<Figure size 432x288 with 1 Axes>"
      ]
     },
     "metadata": {
      "needs_background": "light"
     },
     "output_type": "display_data"
    }
   ],
   "source": [
    "df_ozone[['일시', '평균오존전량(DU)']].plot()"
   ]
  },
  {
   "cell_type": "code",
   "execution_count": 16,
   "metadata": {},
   "outputs": [
    {
     "name": "stdout",
     "output_type": "stream",
     "text": [
      "지점                     int64\n",
      "일시            datetime64[ns]\n",
      "평균오존전량(DU)             int64\n",
      "dtype: object\n"
     ]
    }
   ],
   "source": [
    "df_ozone['일시'] = pd.to_datetime(df_ozone['일시'])\n",
    "# df_ozone['일시'] = df_ozone['일시'].astype('datetime64[ns]')\n",
    "print(df_ozone.dtypes)"
   ]
  },
  {
   "cell_type": "code",
   "execution_count": 17,
   "metadata": {},
   "outputs": [
    {
     "name": "stdout",
     "output_type": "stream",
     "text": [
      "           일시  평균오존전량(DU)\n",
      "0  2013-02-01         322\n",
      "1  2013-03-01         340\n",
      "2  2013-04-01         329\n",
      "3  2013-05-01         347\n",
      "4  2013-06-01         325\n",
      "5  2013-07-01         299\n",
      "6  2013-08-01         301\n",
      "7  2013-09-01         300\n",
      "8  2013-10-01         279\n",
      "9  2013-11-01         307\n",
      "10 2013-12-01         331\n",
      "11 2014-01-01         327\n",
      "12 2014-02-01         348\n",
      "13 2014-03-01         361\n",
      "14 2014-04-01         344\n",
      "15 2014-05-01         346\n",
      "16 2014-06-01         338\n",
      "17 2014-07-01         305\n",
      "18 2014-08-01         297\n",
      "19 2014-09-01         293\n",
      "20 2014-10-01         283\n",
      "21 2014-11-01         294\n",
      "22 2014-12-01         333\n",
      "23 2015-01-01         329\n",
      "24 2015-02-01         379\n",
      "25 2015-03-01         381\n",
      "26 2015-04-01         361\n",
      "27 2015-05-01         342\n",
      "28 2015-06-01         339\n",
      "29 2015-07-01         308\n",
      "30 2015-08-01         304\n"
     ]
    },
    {
     "data": {
      "text/plain": [
       "<matplotlib.axes._subplots.AxesSubplot at 0x21720218348>"
      ]
     },
     "execution_count": 17,
     "metadata": {},
     "output_type": "execute_result"
    },
    {
     "data": {
      "image/png": "[encoded data removed]",
      "text/plain": [
       "<Figure size 432x288 with 1 Axes>"
      ]
     },
     "metadata": {
      "needs_background": "light"
     },
     "output_type": "display_data"
    }
   ],
   "source": [
    "df_ozone_vis = df_ozone[['일시', '평균오존전량(DU)']]\n",
    "print(df_ozone_vis)\n",
    "df_ozone_vis.set_index('일시', inplace=True)\n",
    "df_ozone_vis.plot()"
   ]
  },
  {
   "cell_type": "code",
   "execution_count": 18,
   "metadata": {},
   "outputs": [
    {
     "data": {
      "text/plain": [
       "<matplotlib.axes._subplots.AxesSubplot at 0x217213a7648>"
      ]
     },
     "execution_count": 18,
     "metadata": {},
     "output_type": "execute_result"
    },
    {
     "data": {
      "image/png": "[encoded data removed]",
      "text/plain": [
       "<Figure size 432x288 with 1 Axes>"
      ]
     },
     "metadata": {
      "needs_background": "light"
     },
     "output_type": "display_data"
    }
   ],
   "source": [
    "df_ozone2 = pd.read_csv('data/ozone_data.csv', encoding=\"cp949\")\n",
    "df_ozone2[\"일시\"] = df_ozone2[\"일시\"].astype(\"datetime64[ns]\")\n",
    "df_ozone2.plot(x=\"일시\", y=\"평균오존전량(DU)\")"
   ]
  },
  {
   "cell_type": "code",
   "execution_count": 19,
   "metadata": {},
   "outputs": [
    {
     "data": {
      "image/png": "[encoded data removed]",
      "text/plain": [
       "<Figure size 864x216 with 1 Axes>"
      ]
     },
     "metadata": {
      "needs_background": "light"
     },
     "output_type": "display_data"
    }
   ],
   "source": [
    "import matplotlib.pyplot as plt\n",
    "df_ozone = pd.read_csv(\"data/ozone_data.csv\", encoding='cp949')\n",
    "df_ozone\n",
    "dates = list(df_ozone.loc[:, '일시'])\n",
    "dates\n",
    "oz = list(df_ozone.loc[:, '평균오존전량(DU)'])\n",
    "oz\n",
    "\n",
    "plt.figure(figsize=(12, 3))\n",
    "plt.clf()\n",
    "plt.plot(dates, oz, 'k-')\n",
    "plt.xticks(rotation=45)\n",
    "plt.grid()\n",
    "plt.show()"
   ]
  },
  {
   "cell_type": "code",
   "execution_count": 20,
   "metadata": {},
   "outputs": [
    {
     "name": "stdout",
     "output_type": "stream",
     "text": [
      "      지점       시간  CO2_ppm  CH4_ppm  N2O_ppm  CFC11_ppm  CFC12_ppm  \\\n",
      "0    안면도  1999-01    373.1      NaN      NaN        NaN        NaN   \n",
      "1    안면도  1999-02    374.0      NaN    315.2      266.9      534.1   \n",
      "2    안면도  1999-03    374.9      NaN    314.6      267.5      535.1   \n",
      "3    안면도  1999-04    375.1   1869.0    314.2      266.7      534.7   \n",
      "4    안면도  1999-05    374.0   1863.0    314.6      268.6      535.1   \n",
      "..   ...      ...      ...      ...      ...        ...        ...   \n",
      "211  안면도  2020-08    402.1   1920.0    330.4      239.9      533.1   \n",
      "212  안면도  2020-09    404.3   1984.0    330.6      236.8      519.7   \n",
      "213  안면도  2020-10    408.8   1991.0    330.1      243.0      534.1   \n",
      "214  안면도  2020-11    411.8   1991.0    329.7      249.1      550.0   \n",
      "215  안면도  2020-12    413.2   1980.0    329.5      243.3      542.4   \n",
      "\n",
      "     CFC113_ppm  SF6_ppm  \n",
      "0           NaN      NaN  \n",
      "1           NaN      NaN  \n",
      "2           NaN      NaN  \n",
      "3           NaN      NaN  \n",
      "4           NaN      NaN  \n",
      "..          ...      ...  \n",
      "211        73.5      9.2  \n",
      "212        72.3      9.3  \n",
      "213        72.9      NaN  \n",
      "214        74.2      9.4  \n",
      "215        73.6      9.5  \n",
      "\n",
      "[216 rows x 9 columns]\n"
     ]
    }
   ],
   "source": [
    "df = pd.read_csv(\"data/20200511_ghg.csv\", encoding='cp949')\n",
    "\n",
    "print(df)"
   ]
  },
  {
   "cell_type": "code",
   "execution_count": 21,
   "metadata": {},
   "outputs": [
    {
     "name": "stdout",
     "output_type": "stream",
     "text": [
      "    지점       시간  CO2_ppm  CH4_ppm  N2O_ppm  CFC11_ppm  CFC12_ppm  CFC113_ppm  \\\n",
      "0  안면도  1999-01    373.1      NaN      NaN        NaN        NaN         NaN   \n",
      "1  안면도  1999-02    374.0      NaN    315.2      266.9      534.1         NaN   \n",
      "2  안면도  1999-03    374.9      NaN    314.6      267.5      535.1         NaN   \n",
      "3  안면도  1999-04    375.1   1869.0    314.2      266.7      534.7         NaN   \n",
      "4  안면도  1999-05    374.0   1863.0    314.6      268.6      535.1         NaN   \n",
      "\n",
      "   SF6_ppm  \n",
      "0      NaN  \n",
      "1      NaN  \n",
      "2      NaN  \n",
      "3      NaN  \n",
      "4      NaN  \n"
     ]
    }
   ],
   "source": [
    "print(df.head())"
   ]
  },
  {
   "cell_type": "code",
   "execution_count": 22,
   "metadata": {},
   "outputs": [
    {
     "name": "stdout",
     "output_type": "stream",
     "text": [
      "      지점       시간  CO2_ppm  CH4_ppm  N2O_ppm  CFC11_ppm  CFC12_ppm  \\\n",
      "211  안면도  2020-08    402.1   1920.0    330.4      239.9      533.1   \n",
      "212  안면도  2020-09    404.3   1984.0    330.6      236.8      519.7   \n",
      "213  안면도  2020-10    408.8   1991.0    330.1      243.0      534.1   \n",
      "214  안면도  2020-11    411.8   1991.0    329.7      249.1      550.0   \n",
      "215  안면도  2020-12    413.2   1980.0    329.5      243.3      542.4   \n",
      "\n",
      "     CFC113_ppm  SF6_ppm  \n",
      "211        73.5      9.2  \n",
      "212        72.3      9.3  \n",
      "213        72.9      NaN  \n",
      "214        74.2      9.4  \n",
      "215        73.6      9.5  \n"
     ]
    }
   ],
   "source": [
    "print(df.tail())"
   ]
  },
  {
   "cell_type": "code",
   "execution_count": 23,
   "metadata": {},
   "outputs": [
    {
     "name": "stdout",
     "output_type": "stream",
     "text": [
      "<class 'pandas.core.frame.DataFrame'>\n",
      "RangeIndex: 216 entries, 0 to 215\n",
      "Data columns (total 9 columns):\n",
      " #   Column      Non-Null Count  Dtype  \n",
      "---  ------      --------------  -----  \n",
      " 0   지점          216 non-null    object \n",
      " 1   시간          216 non-null    object \n",
      " 2   CO2_ppm     216 non-null    float64\n",
      " 3   CH4_ppm     185 non-null    float64\n",
      " 4   N2O_ppm     150 non-null    float64\n",
      " 5   CFC11_ppm   201 non-null    float64\n",
      " 6   CFC12_ppm   200 non-null    float64\n",
      " 7   CFC113_ppm  112 non-null    float64\n",
      " 8   SF6_ppm     117 non-null    float64\n",
      "dtypes: float64(7), object(2)\n",
      "memory usage: 15.3+ KB\n",
      "None\n"
     ]
    }
   ],
   "source": [
    "print(df.info())"
   ]
  },
  {
   "cell_type": "code",
   "execution_count": 24,
   "metadata": {},
   "outputs": [
    {
     "name": "stdout",
     "output_type": "stream",
     "text": [
      "(216, 9)\n"
     ]
    }
   ],
   "source": [
    "print(df.shape)"
   ]
  },
  {
   "cell_type": "code",
   "execution_count": 25,
   "metadata": {},
   "outputs": [
    {
     "name": "stdout",
     "output_type": "stream",
     "text": [
      "<class 'pandas.core.frame.DataFrame'>\n",
      "RangeIndex: 216 entries, 0 to 215\n",
      "Data columns (total 9 columns):\n",
      " #   Column      Non-Null Count  Dtype         \n",
      "---  ------      --------------  -----         \n",
      " 0   지점          216 non-null    object        \n",
      " 1   시간          216 non-null    datetime64[ns]\n",
      " 2   CO2_ppm     216 non-null    float64       \n",
      " 3   CH4_ppm     185 non-null    float64       \n",
      " 4   N2O_ppm     150 non-null    float64       \n",
      " 5   CFC11_ppm   201 non-null    float64       \n",
      " 6   CFC12_ppm   200 non-null    float64       \n",
      " 7   CFC113_ppm  112 non-null    float64       \n",
      " 8   SF6_ppm     117 non-null    float64       \n",
      "dtypes: datetime64[ns](1), float64(7), object(1)\n",
      "memory usage: 15.3+ KB\n",
      "None\n"
     ]
    }
   ],
   "source": [
    "df['시간'] = pd.to_datetime(df['시간'])\n",
    "print(df.info())"
   ]
  },
  {
   "cell_type": "code",
   "execution_count": 26,
   "metadata": {},
   "outputs": [
    {
     "name": "stdout",
     "output_type": "stream",
     "text": [
      "          CO2_ppm      CH4_ppm     N2O_ppm   CFC11_ppm   CFC12_ppm  \\\n",
      "count  216.000000   185.000000  150.000000  201.000000  200.000000   \n",
      "mean   389.890278  1898.491892  322.105333  245.946269  529.265000   \n",
      "std     12.308112    40.846228    4.968043   18.654380   15.049292   \n",
      "min    363.800000  1809.000000  312.100000  194.700000  480.100000   \n",
      "25%    379.950000  1868.000000  317.850000  233.000000  520.475000   \n",
      "50%    389.700000  1900.000000  322.850000  246.800000  534.150000   \n",
      "75%    399.325000  1929.000000  325.500000  263.900000  540.100000   \n",
      "max    414.200000  1991.000000  330.600000  270.700000  552.600000   \n",
      "\n",
      "       CFC113_ppm     SF6_ppm  \n",
      "count  112.000000  117.000000  \n",
      "mean    74.983036    8.039316  \n",
      "std      3.553678    1.063822  \n",
      "min     67.800000    6.000000  \n",
      "25%     72.500000    7.200000  \n",
      "50%     74.150000    8.200000  \n",
      "75%     76.700000    8.900000  \n",
      "max     88.500000    9.800000  \n"
     ]
    }
   ],
   "source": [
    "print(df.describe())"
   ]
  },
  {
   "cell_type": "code",
   "execution_count": 27,
   "metadata": {},
   "outputs": [
    {
     "name": "stdout",
     "output_type": "stream",
     "text": [
      "지점              0\n",
      "시간              0\n",
      "CO2_ppm         0\n",
      "CH4_ppm        31\n",
      "N2O_ppm        66\n",
      "CFC11_ppm      15\n",
      "CFC12_ppm      16\n",
      "CFC113_ppm    104\n",
      "SF6_ppm        99\n",
      "dtype: int64\n"
     ]
    }
   ],
   "source": [
    "print(df.isnull().sum())"
   ]
  },
  {
   "cell_type": "code",
   "execution_count": 28,
   "metadata": {},
   "outputs": [
    {
     "name": "stdout",
     "output_type": "stream",
     "text": [
      "Index(['지점', '시간', 'CO2_ppm', 'CH4_ppm', 'N2O_ppm', 'CFC11_ppm', 'CFC12_ppm',\n",
      "       'CFC113_ppm', 'SF6_ppm'],\n",
      "      dtype='object')\n"
     ]
    }
   ],
   "source": [
    "print(df.columns)"
   ]
  },
  {
   "cell_type": "code",
   "execution_count": 29,
   "metadata": {},
   "outputs": [
    {
     "name": "stdout",
     "output_type": "stream",
     "text": [
      "[['안면도' Timestamp('1999-01-01 00:00:00') 373.1 ... nan nan nan]\n",
      " ['안면도' Timestamp('1999-02-01 00:00:00') 374.0 ... 534.1 nan nan]\n",
      " ['안면도' Timestamp('1999-03-01 00:00:00') 374.9 ... 535.1 nan nan]\n",
      " ...\n",
      " ['안면도' Timestamp('2020-10-01 00:00:00') 408.8 ... 534.1 72.9 nan]\n",
      " ['안면도' Timestamp('2020-11-01 00:00:00') 411.8 ... 550.0 74.2 9.4]\n",
      " ['안면도' Timestamp('2020-12-01 00:00:00') 413.2 ... 542.4 73.6 9.5]]\n"
     ]
    }
   ],
   "source": [
    "print(df.values)"
   ]
  },
  {
   "cell_type": "code",
   "execution_count": 30,
   "metadata": {},
   "outputs": [
    {
     "name": "stdout",
     "output_type": "stream",
     "text": [
      "     자치구     세대수     인구수   남자인구수   여자인구수\n",
      "0    종로구   73668  164640   80173   84467\n",
      "1     중구   60130  134174   66064   68110\n",
      "2    용산구  107090  243922  119056  124866\n",
      "3    성동구  132415  312933  154253  158680\n",
      "4    광진구  160085  372414  180737  191677\n",
      "5   동대문구  160029  367769  182000  185769\n",
      "6    중랑구  179002  414554  206011  208543\n",
      "7    성북구  187822  458261  222474  235787\n",
      "8    강북구  142165  329042  160842  168200\n",
      "9    도봉구  137269  347338  170134  177204\n",
      "10   노원구  218469  562278  273212  289066\n",
      "11   은평구  202391  491899  238733  253166\n",
      "12  서대문구  137509  326479  156070  170409\n",
      "13   마포구  169626  387776  184480  203296\n",
      "14   양천구  176811  476627  235246  241381\n",
      "15   강서구  252683  607877  296157  311720\n",
      "16   구로구  171861  443288  222088  221200\n",
      "17   금천구  105862  253646  129741  123905\n",
      "18  영등포구  166733  401908  202137  199771\n",
      "19   동작구  173474  410703  199978  210725\n",
      "20   관악구  254964  522849  263162  259687\n",
      "21   서초구  173885  447177  214389  232788\n",
      "22   강남구  233583  565731  271093  294638\n",
      "23   송파구  262611  668366  325253  343113\n",
      "24   강동구  178864  446760  221954  224806\n"
     ]
    }
   ],
   "source": [
    "df1 = pd.read_excel('data/20200426_excel_test.xlsx', sheet_name=0)\n",
    "print(df1)"
   ]
  },
  {
   "cell_type": "code",
   "execution_count": 31,
   "metadata": {},
   "outputs": [
    {
     "name": "stdout",
     "output_type": "stream",
     "text": [
      "   자치구     세대수     인구수   남자인구수   여자인구수\n",
      "0  종로구   73668  164640   80173   84467\n",
      "1   중구   60130  134174   66064   68110\n",
      "2  용산구  107090  243922  119056  124866\n",
      "3  성동구  132415  312933  154253  158680\n",
      "4  광진구  160085  372414  180737  191677\n"
     ]
    }
   ],
   "source": [
    "print(df1.head())"
   ]
  },
  {
   "cell_type": "code",
   "execution_count": 32,
   "metadata": {},
   "outputs": [
    {
     "name": "stdout",
     "output_type": "stream",
     "text": [
      "    자치구     세대수     인구수   남자인구수   여자인구수\n",
      "20  관악구  254964  522849  263162  259687\n",
      "21  서초구  173885  447177  214389  232788\n",
      "22  강남구  233583  565731  271093  294638\n",
      "23  송파구  262611  668366  325253  343113\n",
      "24  강동구  178864  446760  221954  224806\n"
     ]
    }
   ],
   "source": [
    "print(df1.tail())"
   ]
  },
  {
   "cell_type": "code",
   "execution_count": 33,
   "metadata": {},
   "outputs": [
    {
     "name": "stdout",
     "output_type": "stream",
     "text": [
      "<class 'pandas.core.frame.DataFrame'>\n",
      "RangeIndex: 25 entries, 0 to 24\n",
      "Data columns (total 5 columns):\n",
      " #   Column  Non-Null Count  Dtype \n",
      "---  ------  --------------  ----- \n",
      " 0   자치구     25 non-null     object\n",
      " 1   세대수     25 non-null     int64 \n",
      " 2   인구수     25 non-null     int64 \n",
      " 3   남자인구수   25 non-null     int64 \n",
      " 4   여자인구수   25 non-null     int64 \n",
      "dtypes: int64(4), object(1)\n",
      "memory usage: 1.1+ KB\n",
      "None\n"
     ]
    }
   ],
   "source": [
    "print(df1.info())"
   ]
  },
  {
   "cell_type": "code",
   "execution_count": 34,
   "metadata": {},
   "outputs": [
    {
     "name": "stdout",
     "output_type": "stream",
     "text": [
      "                 세대수            인구수          남자인구수          여자인구수\n",
      "count      25.000000      25.000000      25.000000      25.000000\n",
      "mean   168760.040000  406336.440000  199017.480000  207318.960000\n",
      "std     51855.066385  129426.762881   62898.304009   66707.602173\n",
      "min     60130.000000  134174.000000   66064.000000   68110.000000\n",
      "25%    137509.000000  329042.000000  160842.000000  170409.000000\n",
      "50%    171861.000000  410703.000000  202137.000000  208543.000000\n",
      "75%    187822.000000  476627.000000  235246.000000  241381.000000\n",
      "max    262611.000000  668366.000000  325253.000000  343113.000000\n"
     ]
    }
   ],
   "source": [
    "print(df1.describe())"
   ]
  },
  {
   "cell_type": "code",
   "execution_count": 35,
   "metadata": {},
   "outputs": [
    {
     "name": "stdout",
     "output_type": "stream",
     "text": [
      "   자치구     세대수     인구수   남자인구수   여자인구수\n",
      "0  종로구   73668  164640   80173   84467\n",
      "1   중구   60130  134174   66064   68110\n",
      "2  용산구  107090  243922  119056  124866\n",
      "3  성동구  132415  312933  154253  158680\n",
      "4  광진구  160085  372414  180737  191677\n"
     ]
    }
   ],
   "source": [
    "# (6) 기본적인 연산방법\n",
    "print(df1.head())"
   ]
  },
  {
   "cell_type": "code",
   "execution_count": 36,
   "metadata": {},
   "outputs": [
    {
     "name": "stdout",
     "output_type": "stream",
     "text": [
      "0     164640\n",
      "1     134174\n",
      "2     243922\n",
      "3     312933\n",
      "4     372414\n",
      "5     367769\n",
      "6     414554\n",
      "7     458261\n",
      "8     329042\n",
      "9     347338\n",
      "10    562278\n",
      "11    491899\n",
      "12    326479\n",
      "13    387776\n",
      "14    476627\n",
      "15    607877\n",
      "16    443288\n",
      "17    253646\n",
      "18    401908\n",
      "19    410703\n",
      "20    522849\n",
      "21    447177\n",
      "22    565731\n",
      "23    668366\n",
      "24    446760\n",
      "dtype: int64\n"
     ]
    }
   ],
   "source": [
    "# 1) 변수단위로 연산\n",
    "print(df1['남자인구수'] + df1['여자인구수'])"
   ]
  },
  {
   "cell_type": "code",
   "execution_count": 37,
   "metadata": {},
   "outputs": [
    {
     "name": "stdout",
     "output_type": "stream",
     "text": [
      "0     2.234892\n",
      "1     2.231399\n",
      "2     2.277729\n",
      "3     2.363275\n",
      "4     2.326352\n",
      "5     2.298140\n",
      "6     2.315918\n",
      "7     2.439869\n",
      "8     2.314508\n",
      "9     2.530346\n",
      "10    2.573720\n",
      "11    2.430439\n",
      "12    2.374237\n",
      "13    2.286065\n",
      "14    2.695686\n",
      "15    2.405690\n",
      "16    2.579340\n",
      "17    2.396006\n",
      "18    2.410489\n",
      "19    2.367519\n",
      "20    2.050678\n",
      "21    2.571682\n",
      "22    2.421970\n",
      "23    2.545080\n",
      "24    2.497764\n",
      "dtype: float64\n"
     ]
    }
   ],
   "source": [
    "print(df1['인구수'] / df1['세대수'])"
   ]
  },
  {
   "cell_type": "code",
   "execution_count": 38,
   "metadata": {},
   "outputs": [
    {
     "name": "stdout",
     "output_type": "stream",
     "text": [
      "<class 'pandas.core.frame.DataFrame'>\n",
      "RangeIndex: 216 entries, 0 to 215\n",
      "Data columns (total 9 columns):\n",
      " #   Column      Non-Null Count  Dtype         \n",
      "---  ------      --------------  -----         \n",
      " 0   지점          216 non-null    object        \n",
      " 1   시간          216 non-null    datetime64[ns]\n",
      " 2   CO2_ppm     216 non-null    float64       \n",
      " 3   CH4_ppm     185 non-null    float64       \n",
      " 4   N2O_ppm     150 non-null    float64       \n",
      " 5   CFC11_ppm   201 non-null    float64       \n",
      " 6   CFC12_ppm   200 non-null    float64       \n",
      " 7   CFC113_ppm  112 non-null    float64       \n",
      " 8   SF6_ppm     117 non-null    float64       \n",
      "dtypes: datetime64[ns](1), float64(7), object(1)\n",
      "memory usage: 15.3+ KB\n",
      "None\n"
     ]
    }
   ],
   "source": [
    "# 2) NaN값이 포함된 연산의 결과는 항상 NaN\n",
    "print(df.info())"
   ]
  },
  {
   "cell_type": "code",
   "execution_count": 39,
   "metadata": {},
   "outputs": [
    {
     "name": "stdout",
     "output_type": "stream",
     "text": [
      "    지점         시간  CO2_ppm  CH4_ppm  N2O_ppm  CFC11_ppm  CFC12_ppm  \\\n",
      "0  안면도 1999-01-01    373.1      NaN      NaN        NaN        NaN   \n",
      "1  안면도 1999-02-01    374.0      NaN    315.2      266.9      534.1   \n",
      "2  안면도 1999-03-01    374.9      NaN    314.6      267.5      535.1   \n",
      "3  안면도 1999-04-01    375.1   1869.0    314.2      266.7      534.7   \n",
      "4  안면도 1999-05-01    374.0   1863.0    314.6      268.6      535.1   \n",
      "\n",
      "   CFC113_ppm  SF6_ppm  \n",
      "0         NaN      NaN  \n",
      "1         NaN      NaN  \n",
      "2         NaN      NaN  \n",
      "3         NaN      NaN  \n",
      "4         NaN      NaN  \n"
     ]
    }
   ],
   "source": [
    "print(df.head())"
   ]
  },
  {
   "cell_type": "code",
   "execution_count": 40,
   "metadata": {},
   "outputs": [
    {
     "name": "stdout",
     "output_type": "stream",
     "text": [
      "Index(['지점', '시간', 'CO2_ppm', 'CH4_ppm', 'N2O_ppm', 'CFC11_ppm', 'CFC12_ppm',\n",
      "       'CFC113_ppm', 'SF6_ppm'],\n",
      "      dtype='object')\n"
     ]
    }
   ],
   "source": [
    "print(df.columns)"
   ]
  },
  {
   "cell_type": "code",
   "execution_count": 41,
   "metadata": {},
   "outputs": [
    {
     "name": "stdout",
     "output_type": "stream",
     "text": [
      "0\n"
     ]
    }
   ],
   "source": [
    "print(df['CO2_ppm'].isnull().sum())"
   ]
  },
  {
   "cell_type": "code",
   "execution_count": 42,
   "metadata": {},
   "outputs": [
    {
     "name": "stdout",
     "output_type": "stream",
     "text": [
      "31\n"
     ]
    }
   ],
   "source": [
    "print(df['CH4_ppm'].isnull().sum())"
   ]
  },
  {
   "cell_type": "code",
   "execution_count": 43,
   "metadata": {},
   "outputs": [
    {
     "name": "stdout",
     "output_type": "stream",
     "text": [
      "0       NaN\n",
      "1       NaN\n",
      "2       NaN\n",
      "3    2244.1\n",
      "4    2237.0\n",
      "dtype: float64\n"
     ]
    }
   ],
   "source": [
    "df_x = df['CO2_ppm'] + df['CH4_ppm']\n",
    "print(df_x.head())"
   ]
  },
  {
   "cell_type": "code",
   "execution_count": 44,
   "metadata": {},
   "outputs": [
    {
     "name": "stdout",
     "output_type": "stream",
     "text": [
      "31\n"
     ]
    }
   ],
   "source": [
    "print(df_x.isnull().sum())"
   ]
  },
  {
   "cell_type": "code",
   "execution_count": null,
   "metadata": {},
   "outputs": [],
   "source": [
    "# (7) 주요 통계함수\n",
    "print(df.describe())"
   ]
  },
  {
   "cell_type": "code",
   "execution_count": 45,
   "metadata": {},
   "outputs": [
    {
     "name": "stdout",
     "output_type": "stream",
     "text": [
      "84216.29999999999\n",
      "351221.0\n"
     ]
    }
   ],
   "source": [
    "print(df['CO2_ppm'].sum())\n",
    "print(df['CH4_ppm'].sum())"
   ]
  },
  {
   "cell_type": "code",
   "execution_count": 46,
   "metadata": {},
   "outputs": [
    {
     "name": "stdout",
     "output_type": "stream",
     "text": [
      "389.890277777778\n"
     ]
    }
   ],
   "source": [
    "print(df['CO2_ppm'].mean())"
   ]
  },
  {
   "cell_type": "code",
   "execution_count": 47,
   "metadata": {},
   "outputs": [
    {
     "name": "stdout",
     "output_type": "stream",
     "text": [
      "216\n",
      "185\n"
     ]
    }
   ],
   "source": [
    "print(df['CO2_ppm'].count())\n",
    "print(df['CH4_ppm'].count())"
   ]
  },
  {
   "cell_type": "code",
   "execution_count": 48,
   "metadata": {},
   "outputs": [
    {
     "name": "stdout",
     "output_type": "stream",
     "text": [
      "0    374.0\n",
      "1    376.9\n",
      "2    391.6\n",
      "3    404.3\n",
      "dtype: float64\n",
      "0    1901.0\n",
      "1    1906.0\n",
      "dtype: float64\n"
     ]
    }
   ],
   "source": [
    "print(df['CO2_ppm'].mode())\n",
    "print(df['CH4_ppm'].mode())"
   ]
  },
  {
   "cell_type": "code",
   "execution_count": 49,
   "metadata": {},
   "outputs": [
    {
     "name": "stdout",
     "output_type": "stream",
     "text": [
      "1809.0\n",
      "1991.0\n"
     ]
    }
   ],
   "source": [
    "print(df['CH4_ppm'].min())\n",
    "print(df['CH4_ppm'].max())"
   ]
  },
  {
   "cell_type": "code",
   "execution_count": 50,
   "metadata": {},
   "outputs": [
    {
     "name": "stdout",
     "output_type": "stream",
     "text": [
      "389.7\n",
      "1900.0\n"
     ]
    }
   ],
   "source": [
    "print(df['CO2_ppm'].median())\n",
    "print(df['CH4_ppm'].median())"
   ]
  },
  {
   "cell_type": "code",
   "execution_count": 51,
   "metadata": {},
   "outputs": [
    {
     "name": "stdout",
     "output_type": "stream",
     "text": [
      "379.95\n",
      "389.7\n",
      "399.32500000000005\n"
     ]
    }
   ],
   "source": [
    "print(df['CO2_ppm'].quantile(0.25))\n",
    "print(df['CO2_ppm'].quantile(0.5))\n",
    "print(df['CO2_ppm'].quantile(0.75))"
   ]
  },
  {
   "cell_type": "code",
   "execution_count": 52,
   "metadata": {},
   "outputs": [
    {
     "name": "stdout",
     "output_type": "stream",
     "text": [
      "1868.0\n",
      "1900.0\n",
      "1929.0\n"
     ]
    }
   ],
   "source": [
    "print(df['CH4_ppm'].quantile(0.25))\n",
    "print(df['CH4_ppm'].quantile(0.5))\n",
    "print(df['CH4_ppm'].quantile(0.75))"
   ]
  },
  {
   "cell_type": "code",
   "execution_count": 53,
   "metadata": {},
   "outputs": [
    {
     "name": "stdout",
     "output_type": "stream",
     "text": [
      "151.4896259689922\n",
      "12.30811220167383\n",
      "1668.4143360752057\n",
      "40.84622792958005\n"
     ]
    }
   ],
   "source": [
    "print(df['CO2_ppm'].var())\n",
    "print(df['CO2_ppm'].std())\n",
    "print(df['CH4_ppm'].var())\n",
    "print(df['CH4_ppm'].std())"
   ]
  },
  {
   "cell_type": "code",
   "execution_count": 54,
   "metadata": {},
   "outputs": [
    {
     "name": "stdout",
     "output_type": "stream",
     "text": [
      "0      373.1\n",
      "1      374.0\n",
      "2      374.9\n",
      "3      375.1\n",
      "4      374.0\n",
      "       ...  \n",
      "211    402.1\n",
      "212    404.3\n",
      "213    408.8\n",
      "214    411.8\n",
      "215    413.2\n",
      "Name: CO2_ppm, Length: 216, dtype: float64\n"
     ]
    }
   ],
   "source": [
    "print(df['CO2_ppm'].round(2))"
   ]
  },
  {
   "cell_type": "code",
   "execution_count": 55,
   "metadata": {},
   "outputs": [
    {
     "name": "stdout",
     "output_type": "stream",
     "text": [
      "12.31\n"
     ]
    }
   ],
   "source": [
    "print(round(df['CO2_ppm'].std(), 2))"
   ]
  },
  {
   "cell_type": "code",
   "execution_count": 56,
   "metadata": {},
   "outputs": [
    {
     "name": "stdout",
     "output_type": "stream",
     "text": [
      "0      139203.61\n",
      "1      139876.00\n",
      "2      140550.01\n",
      "3      140700.01\n",
      "4      139876.00\n",
      "         ...    \n",
      "211    161684.41\n",
      "212    163458.49\n",
      "213    167117.44\n",
      "214    169579.24\n",
      "215    170734.24\n",
      "Name: CO2_ppm, Length: 216, dtype: float64\n"
     ]
    }
   ],
   "source": [
    "# (8) 함수 적용\n",
    "print(df['CO2_ppm'] * df['CO2_ppm'])"
   ]
  },
  {
   "cell_type": "code",
   "execution_count": 57,
   "metadata": {},
   "outputs": [
    {
     "name": "stdout",
     "output_type": "stream",
     "text": [
      "0      139203.61\n",
      "1      139876.00\n",
      "2      140550.01\n",
      "3      140700.01\n",
      "4      139876.00\n",
      "         ...    \n",
      "211    161684.41\n",
      "212    163458.49\n",
      "213    167117.44\n",
      "214    169579.24\n",
      "215    170734.24\n",
      "Name: CO2_ppm, Length: 216, dtype: float64\n"
     ]
    }
   ],
   "source": [
    "print(df['CO2_ppm'].apply(lambda x: x * x))"
   ]
  },
  {
   "cell_type": "code",
   "execution_count": 58,
   "metadata": {},
   "outputs": [
    {
     "name": "stdout",
     "output_type": "stream",
     "text": [
      "0      373.1\n",
      "1      374.0\n",
      "2      374.9\n",
      "3      375.1\n",
      "4      374.0\n",
      "       ...  \n",
      "211    402.1\n",
      "212    404.3\n",
      "213    408.8\n",
      "214    411.8\n",
      "215    413.2\n",
      "Name: CO2_ppm, Length: 216, dtype: float64\n",
      "0         746.20\n",
      "1         748.00\n",
      "2         749.80\n",
      "3         750.20\n",
      "4         748.00\n",
      "         ...    \n",
      "211    161684.41\n",
      "212    163458.49\n",
      "213    167117.44\n",
      "214    169579.24\n",
      "215    170734.24\n",
      "Name: CO2_ppm, Length: 216, dtype: float64\n"
     ]
    }
   ],
   "source": [
    "def func_test(x):\n",
    "    if x >= 400:\n",
    "        y = x * x\n",
    "    else:\n",
    "        y = x * 2\n",
    "    return y\n",
    "\n",
    "\n",
    "print(df['CO2_ppm'])\n",
    "print(df['CO2_ppm'].apply(func_test))"
   ]
  }
 ],
 "metadata": {
  "kernelspec": {
   "display_name": "Python 3",
   "language": "python",
   "name": "python3"
  },
  "language_info": {
   "codemirror_mode": {
    "name": "ipython",
    "version": 3
   },
   "file_extension": ".py",
   "mimetype": "text/x-python",
   "name": "python",
   "nbconvert_exporter": "python",
   "pygments_lexer": "ipython3",
   "version": "3.7.7"
  }
 },
 "nbformat": 4,
 "nbformat_minor": 4
}
