{
 "cells": [
  {
   "cell_type": "code",
   "execution_count": null,
   "metadata": {},
   "outputs": [],
   "source": [
    "import pandas as pd"
   ]
  },
  {
   "cell_type": "code",
   "execution_count": null,
   "metadata": {},
   "outputs": [],
   "source": [
    "# (1) 변수(필드)추출\n",
    "df1 = pd.read_excel('data/20200426_excel_test.xlsx', sheet_name=0)\n",
    "print(df1)"
   ]
  },
  {
   "cell_type": "code",
   "execution_count": null,
   "metadata": {},
   "outputs": [],
   "source": [
    "print(df1.columns)"
   ]
  },
  {
   "cell_type": "code",
   "execution_count": null,
   "metadata": {},
   "outputs": [],
   "source": [
    "print(df1.values)"
   ]
  },
  {
   "cell_type": "code",
   "execution_count": null,
   "metadata": {},
   "outputs": [],
   "source": [
    "print(df1['자치구'])"
   ]
  },
  {
   "cell_type": "code",
   "execution_count": null,
   "metadata": {},
   "outputs": [],
   "source": [
    "print(df1[['자치구', '인구수']])"
   ]
  },
  {
   "cell_type": "code",
   "execution_count": null,
   "metadata": {},
   "outputs": [],
   "source": [
    "print(df1.loc[:, :])"
   ]
  },
  {
   "cell_type": "code",
   "execution_count": null,
   "metadata": {},
   "outputs": [],
   "source": [
    "print(df1.loc[:, '자치구'])"
   ]
  },
  {
   "cell_type": "code",
   "execution_count": null,
   "metadata": {},
   "outputs": [],
   "source": [
    "print(df1.loc[:, ['자치구', '인구수']])"
   ]
  },
  {
   "cell_type": "code",
   "execution_count": null,
   "metadata": {},
   "outputs": [],
   "source": [
    "print(df1.loc[:, '자치구':'인구수'])"
   ]
  },
  {
   "cell_type": "code",
   "execution_count": null,
   "metadata": {},
   "outputs": [],
   "source": [
    "print(df1.iloc[:, :])"
   ]
  },
  {
   "cell_type": "code",
   "execution_count": null,
   "metadata": {},
   "outputs": [],
   "source": [
    "print(df1.iloc[:, 0])"
   ]
  },
  {
   "cell_type": "code",
   "execution_count": null,
   "metadata": {},
   "outputs": [],
   "source": [
    "print(df1.iloc[:, 0:2])"
   ]
  },
  {
   "cell_type": "code",
   "execution_count": null,
   "metadata": {},
   "outputs": [],
   "source": [
    "print(df1.iloc[:, [0, 2]])"
   ]
  },
  {
   "cell_type": "code",
   "execution_count": null,
   "metadata": {},
   "outputs": [],
   "source": [
    "# (2)값 1개 추출\n",
    "print(df1)"
   ]
  },
  {
   "cell_type": "code",
   "execution_count": null,
   "metadata": {},
   "outputs": [],
   "source": [
    "print(df1.at[5, '인구수'])"
   ]
  },
  {
   "cell_type": "code",
   "execution_count": null,
   "metadata": {},
   "outputs": [],
   "source": [
    "df1_1 = df1.set_index('자치구')\n",
    "print(df1_1)"
   ]
  },
  {
   "cell_type": "code",
   "execution_count": null,
   "metadata": {},
   "outputs": [],
   "source": [
    "print(df1_1.at['동대문구', '인구수'])"
   ]
  },
  {
   "cell_type": "code",
   "execution_count": null,
   "metadata": {},
   "outputs": [],
   "source": [
    "df1_1 = df1_1.reset_index()\n",
    "print(df1_1)"
   ]
  },
  {
   "cell_type": "code",
   "execution_count": null,
   "metadata": {},
   "outputs": [],
   "source": [
    "# (3) 인덱스 지정과 복귀\n",
    "\n",
    "df_oz = pd.read_csv('data/ozone_data.csv', encoding=\"cp949\")\n",
    "print(df_oz.columns)"
   ]
  },
  {
   "cell_type": "code",
   "execution_count": null,
   "metadata": {},
   "outputs": [],
   "source": [
    "df_oz1 = df_oz[['일시', '평균오존전량(DU)']]\n",
    "df_oz1 = df_oz1.set_index('일시')\n",
    "print(df_oz1)"
   ]
  },
  {
   "cell_type": "code",
   "execution_count": null,
   "metadata": {},
   "outputs": [],
   "source": [
    "df_oz1 = df_oz1.reset_index()\n",
    "print(df_oz1)"
   ]
  },
  {
   "cell_type": "code",
   "execution_count": null,
   "metadata": {},
   "outputs": [],
   "source": [
    "# (4)새 필드 추가 : 파생변수 생성\n",
    "df1_pop = df1\n",
    "print(df1_pop.head())"
   ]
  },
  {
   "cell_type": "code",
   "execution_count": null,
   "metadata": {},
   "outputs": [],
   "source": [
    "df1_pop['세대당인구수'] = df1_pop['인구수'] / df1_pop['세대수']\n",
    "print(df1_pop.head())"
   ]
  },
  {
   "cell_type": "code",
   "execution_count": null,
   "metadata": {},
   "outputs": [],
   "source": [
    "df1_pop['여자인구수_대비_남자인구수비율'] = df1_pop['남자인구수'] / df1_pop['여자인구수']\n",
    "print(df1_pop.head())"
   ]
  },
  {
   "cell_type": "code",
   "execution_count": null,
   "metadata": {},
   "outputs": [],
   "source": [
    "# (5) 필터링 - 데이터추출\n",
    "df_ol = pd.read_excel('data/20180217_2017년서울시구별노령화지수.xlsx')\n",
    "print(df_ol)"
   ]
  },
  {
   "cell_type": "code",
   "execution_count": null,
   "metadata": {},
   "outputs": [],
   "source": [
    "df_ol2 = df_ol.iloc[1:, 1:]\n",
    "print(df_ol2)"
   ]
  },
  {
   "cell_type": "code",
   "execution_count": null,
   "metadata": {},
   "outputs": [],
   "source": [
    "print(df_ol2[df_ol2['노령화지수'] < 100])"
   ]
  },
  {
   "cell_type": "code",
   "execution_count": null,
   "metadata": {},
   "outputs": [],
   "source": [
    "print(df_ol2[df_ol2['노령화지수'] >= 150])"
   ]
  },
  {
   "cell_type": "code",
   "execution_count": null,
   "metadata": {},
   "outputs": [],
   "source": [
    "df_ol_new = pd.read_excel('data/20191006_2018_서울시_자치구별_노령화지수.xlsx')\n",
    "print(df_ol_new)"
   ]
  },
  {
   "cell_type": "code",
   "execution_count": null,
   "metadata": {},
   "outputs": [],
   "source": [
    "df_ol_new2 = df_ol_new.iloc[1:, :]\n",
    "print(df_ol_new2)"
   ]
  },
  {
   "cell_type": "code",
   "execution_count": null,
   "metadata": {},
   "outputs": [],
   "source": [
    "# (6) 조인 - 변수 결합\n",
    "df_ol_joined = df_ol2.set_index('자치구').join(df_ol_new2.set_index('구분'))\n",
    "print(df_ol_joined)"
   ]
  },
  {
   "cell_type": "code",
   "execution_count": null,
   "metadata": {},
   "outputs": [],
   "source": [
    "df_ol_joined.reset_index(inplace=True)\n",
    "print(df_ol_joined)"
   ]
  },
  {
   "cell_type": "code",
   "execution_count": null,
   "metadata": {},
   "outputs": [],
   "source": [
    "# (7) 변수명 변경 : rename()\n",
    "df_ol_joined.rename(\n",
    "        columns={'합계': '노령화지수_2018평균', '남자': '남자노령화지수_2018',\n",
    "                 '여자': '여자노령화지수_2018'}, inplace=True)\n",
    "print(df_ol_joined)"
   ]
  },
  {
   "cell_type": "code",
   "execution_count": null,
   "metadata": {},
   "outputs": [],
   "source": [
    "# (8) 바인딩: append()함수, concat()함수\n",
    "df_subway2 = pd.read_csv(\"data/20200423_202002_서울지하철승하차인원수.csv\",\n",
    "                         encoding='cp949', engine=\"python\")\n",
    "print(df_subway2.shape)"
   ]
  },
  {
   "cell_type": "code",
   "execution_count": null,
   "metadata": {},
   "outputs": [],
   "source": [
    "df_subway3 = pd.read_csv(\"data/20200423_202003_서울지하철승하차인원수.csv\",\n",
    "                         encoding='cp949', engine=\"python\")\n",
    "print(df_subway3.shape)"
   ]
  },
  {
   "cell_type": "code",
   "execution_count": null,
   "metadata": {},
   "outputs": [],
   "source": [
    "# append()함수\n",
    "df_subway_new = df_subway2.append(df_subway3, ignore_index=True)\n",
    "print(df_subway_new.shape)"
   ]
  },
  {
   "cell_type": "code",
   "execution_count": null,
   "metadata": {},
   "outputs": [],
   "source": [
    "# concat()함수 - 데이터 결합\n",
    "df_subway_new2 = pd.concat([df_subway2, df_subway3], ignore_index=True)\n",
    "print(df_subway_new2.shape)"
   ]
  },
  {
   "cell_type": "code",
   "execution_count": null,
   "metadata": {},
   "outputs": [],
   "source": [
    "# concat()함수 - 변수 결합\n",
    "df_subway_joined2 = pd.concat([df_ol2, df_ol_new2], axis=1, join='inner')\n",
    "print(df_subway_joined2)"
   ]
  },
  {
   "cell_type": "code",
   "execution_count": null,
   "metadata": {},
   "outputs": [],
   "source": [
    "print(df_subway2['노선명'].value_counts())"
   ]
  },
  {
   "cell_type": "code",
   "execution_count": null,
   "metadata": {},
   "outputs": [],
   "source": [
    "print(df_subway2.노선명.value_counts())\n",
    "# pd.crosstab(df_subway2['노선명'], df_subway2['역명'])"
   ]
  },
  {
   "cell_type": "code",
   "execution_count": null,
   "metadata": {},
   "outputs": [],
   "source": [
    "# 7. pandas 결측치 처리\n",
    "# (1) NaN을 처리하는 메소드\n",
    "df = pd.read_csv(\"data/20200511_ghg.csv\", encoding='cp949')\n",
    "\n",
    "print(df.columns)"
   ]
  },
  {
   "cell_type": "code",
   "execution_count": null,
   "metadata": {},
   "outputs": [],
   "source": [
    "print(df.info())"
   ]
  },
  {
   "cell_type": "code",
   "execution_count": null,
   "metadata": {},
   "outputs": [],
   "source": [
    "print(df[\"CH4_ppm\"].count())"
   ]
  },
  {
   "cell_type": "code",
   "execution_count": null,
   "metadata": {},
   "outputs": [],
   "source": [
    "print(df[\"CH4_ppm\"].dropna())"
   ]
  },
  {
   "cell_type": "code",
   "execution_count": null,
   "metadata": {},
   "outputs": [],
   "source": [
    "print(df[\"CH4_ppm\"].fillna(0))"
   ]
  },
  {
   "cell_type": "code",
   "execution_count": null,
   "metadata": {},
   "outputs": [],
   "source": [
    "print(df[\"CH4_ppm\"].fillna(method='ffill'))"
   ]
  },
  {
   "cell_type": "code",
   "execution_count": null,
   "metadata": {},
   "outputs": [],
   "source": [
    "print(df[\"CH4_ppm\"].fillna(method='bfill'))"
   ]
  },
  {
   "cell_type": "code",
   "execution_count": null,
   "metadata": {},
   "outputs": [],
   "source": [
    "print(df[\"CH4_ppm\"].isnull().sum())\n",
    "print(df[\"CH4_ppm\"].notnull().sum())"
   ]
  },
  {
   "cell_type": "code",
   "execution_count": null,
   "metadata": {},
   "outputs": [],
   "source": [
    "# (2) 결측치 처리\n",
    "df_air = df[['시간', 'CO2_ppm', 'CH4_ppm']]\n",
    "print(df_air[df_air['CH4_ppm'].notnull()])"
   ]
  },
  {
   "cell_type": "code",
   "execution_count": null,
   "metadata": {},
   "outputs": [],
   "source": [
    "print(df.describe())"
   ]
  },
  {
   "cell_type": "code",
   "execution_count": null,
   "metadata": {},
   "outputs": [],
   "source": [
    "df_air2 = df.fillna(method='bfill')\n",
    "print(df_air2.describe())"
   ]
  },
  {
   "cell_type": "code",
   "execution_count": null,
   "metadata": {},
   "outputs": [],
   "source": [
    "# (3) 이상치 처리\n",
    "print(df_air2[\"CO2_ppm\"])"
   ]
  },
  {
   "cell_type": "code",
   "execution_count": null,
   "metadata": {},
   "outputs": [],
   "source": [
    "co2_q1 = df_air2[\"CO2_ppm\"].quantile(0.25)\n",
    "co2_q3 = df_air2[\"CO2_ppm\"].quantile(0.75)\n",
    "\n",
    "co2_nm_min = co2_q1 - (co2_q3 - co2_q1) * 1.5\n",
    "co2_nm_max = co2_q3 + (co2_q3 - co2_q1) * 1.5\n",
    "\n",
    "print(df[df[\"CO2_ppm\"] >= co2_nm_min])"
   ]
  },
  {
   "cell_type": "code",
   "execution_count": null,
   "metadata": {},
   "outputs": [],
   "source": [
    "print(df[df[\"CO2_ppm\"] <= co2_nm_max])"
   ]
  },
  {
   "cell_type": "code",
   "execution_count": null,
   "metadata": {},
   "outputs": [],
   "source": [
    "print(df[(df[\"CO2_ppm\"] >= co2_nm_min) & (df[\"CO2_ppm\"] <= co2_nm_max)])"
   ]
  },
  {
   "cell_type": "code",
   "execution_count": null,
   "metadata": {},
   "outputs": [],
   "source": []
  }
 ],
 "metadata": {
  "kernelspec": {
   "display_name": "Python 3",
   "language": "python",
   "name": "python3"
  },
  "language_info": {
   "codemirror_mode": {
    "name": "ipython",
    "version": 3
   },
   "file_extension": ".py",
   "mimetype": "text/x-python",
   "name": "python",
   "nbconvert_exporter": "python",
   "pygments_lexer": "ipython3",
   "version": "3.7.7"
  }
 },
 "nbformat": 4,
 "nbformat_minor": 4
}
