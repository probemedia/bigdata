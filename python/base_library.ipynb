{
 "cells": [
  {
   "cell_type": "code",
   "execution_count": null,
   "metadata": {},
   "outputs": [],
   "source": [
    "# 1. numpy\n",
    "# (1) numpy 사용방법\n",
    "import numpy as np\n",
    "\n",
    "# (2) ndarray 작성 방법\n",
    "arry1 = np.array([[1, 3, 5], [2, 5, 9], [4, 8, 7]])\n",
    "\n",
    "print(arry1)"
   ]
  },
  {
   "cell_type": "code",
   "execution_count": null,
   "metadata": {},
   "outputs": [],
   "source": [
    "alist = [[1, 3, 5], [2, 5, 9], [4, 8, 7]]\n",
    "arry2 = np.array(alist)\n",
    "print(arry2)"
   ]
  },
  {
   "cell_type": "code",
   "execution_count": null,
   "metadata": {},
   "outputs": [],
   "source": [
    "print(np.zeros((2, 4)))"
   ]
  },
  {
   "cell_type": "code",
   "execution_count": null,
   "metadata": {},
   "outputs": [],
   "source": [
    "print(np.zeros((2, 4, 2)))  # (면, 행, 열)"
   ]
  },
  {
   "cell_type": "code",
   "execution_count": null,
   "metadata": {},
   "outputs": [],
   "source": [
    "print(np.ones((3, 3)))"
   ]
  },
  {
   "cell_type": "code",
   "execution_count": null,
   "metadata": {},
   "outputs": [],
   "source": [
    "print(np.ones((3, 3, 2)))"
   ]
  },
  {
   "cell_type": "code",
   "execution_count": null,
   "metadata": {},
   "outputs": [],
   "source": [
    "print(np.arange(10, 30, 5))"
   ]
  },
  {
   "cell_type": "code",
   "execution_count": null,
   "metadata": {},
   "outputs": [],
   "source": [
    "print(np.arange(10))"
   ]
  },
  {
   "cell_type": "code",
   "execution_count": null,
   "metadata": {},
   "outputs": [],
   "source": [
    "print(np.linspace(0, 10, num=30))"
   ]
  },
  {
   "cell_type": "code",
   "execution_count": null,
   "metadata": {},
   "outputs": [],
   "source": [
    "print(np.linspace(0, 10, num=30, endpoint=True))"
   ]
  },
  {
   "cell_type": "code",
   "execution_count": null,
   "metadata": {},
   "outputs": [],
   "source": [
    "print(np.linspace(0, 10, num=30, endpoint=False))"
   ]
  },
  {
   "cell_type": "code",
   "execution_count": null,
   "metadata": {},
   "outputs": [],
   "source": [
    "# (3) 주요메소드와 슬라이스\n",
    "nda1 = np.arange(12).reshape(3, 4)\n",
    "\n",
    "print(nda1)\n",
    "print(nda1[:, :])\n",
    "print(nda1[1, 2])\n",
    "print(nda1[:, :2])"
   ]
  },
  {
   "cell_type": "code",
   "execution_count": null,
   "metadata": {},
   "outputs": [],
   "source": [
    "# (4) ndarray 타입의 연산\n",
    "# 1) 리스트 연산\n",
    "list_a = [1, 2, 3]\n",
    "list_b = [4, 5, 6]\n",
    "\n",
    "print(list_a + list_b)\n",
    "\n",
    "print(list_a * 2)"
   ]
  },
  {
   "cell_type": "code",
   "execution_count": null,
   "metadata": {},
   "outputs": [],
   "source": [
    "# 2) ndarray 연산\n",
    "ndarray_a = np.array(list_a)\n",
    "ndarray_b = np.array(list_b)\n",
    "\n",
    "print(ndarray_a + ndarray_b)\n",
    "\n",
    "print(ndarray_a * 2)"
   ]
  },
  {
   "cell_type": "code",
   "execution_count": null,
   "metadata": {},
   "outputs": [],
   "source": [
    "# 2.scipy\n",
    "import numpy as np\n",
    "from scipy.interpolate import interp1d\n",
    "\n",
    "x = np.linspace(0, 10, num=11)\n",
    "y = np.cos(x)\n",
    "f1 = interp1d(x, y, kind='linear')"
   ]
  },
  {
   "cell_type": "code",
   "execution_count": null,
   "metadata": {},
   "outputs": [],
   "source": [
    "# 3.matplotlib\n",
    "# 그래프 한글처리\n",
    "import matplotlib as mpl\n",
    "import matplotlib.pyplot as plt\n",
    "import platform\n",
    "\n",
    "plt.rcParams['axes.unicode_minus'] = False\n",
    "\n",
    "if platform.system() == 'Darwin':\n",
    "    mpl.rc('font', family='AppleGothic')\n",
    "elif platform.system() == 'Windows':\n",
    "    path = \"c:/Windows/Fonts/malgun.ttf\"\n",
    "    font_name = mpl.font_manager.FontProperties(fname=path).get_name()\n",
    "    mpl.rc('font', family=font_name)\n",
    "else:\n",
    "    print(\"Unknown System OS\")"
   ]
  },
  {
   "cell_type": "code",
   "execution_count": null,
   "metadata": {},
   "outputs": [],
   "source": [
    "import numpy as np\n",
    "import matplotlib.pyplot as plt\n",
    "from scipy.interpolate import interp1d\n",
    "\n",
    "x = np.linspace(0, 10, num=11)\n",
    "y = np.cos(x)\n",
    "in_kinds = ['linear', 'nearest', 'zero', 'slinear', 'quadratic', 'cubic']\n",
    "line_kinds = ['*', '-.',  ':', ',', 's', '-']\n",
    "\n",
    "plt.figure(1, figsize=(9, 6))\n",
    "plt.plot(x, y, 'o')\n",
    "\n",
    "x2 = np.linspace(0, 10, num=30)\n",
    "\n",
    "for k1, k2 in zip(in_kinds, line_kinds):\n",
    "    f2 = interp1d(x, y, kind=k1)\n",
    "    plt.plot(x2, f2(x2), k2)\n",
    "\n",
    "plt.legend(['data'] + in_kinds)\n",
    "plt.title(\"데이터 보간\")\n",
    "plt.xlabel(\"x값\")\n",
    "plt.ylabel(\"y값\", rotation=0)\n",
    "plt.savefig(\"plots/interp1d.png\")\n",
    "plt.show()"
   ]
  }
 ],
 "metadata": {
  "kernelspec": {
   "display_name": "Python 3",
   "language": "python",
   "name": "python3"
  },
  "language_info": {
   "codemirror_mode": {
    "name": "ipython",
    "version": 3
   },
   "file_extension": ".py",
   "mimetype": "text/x-python",
   "name": "python",
   "nbconvert_exporter": "python",
   "pygments_lexer": "ipython3",
   "version": "3.7.7"
  }
 },
 "nbformat": 4,
 "nbformat_minor": 2
}
