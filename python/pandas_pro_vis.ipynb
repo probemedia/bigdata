{
 "cells": [
  {
   "cell_type": "code",
   "execution_count": null,
   "metadata": {},
   "outputs": [],
   "source": [
    "import pandas as pd"
   ]
  },
  {
   "cell_type": "code",
   "execution_count": null,
   "metadata": {},
   "outputs": [],
   "source": [
    "import matplotlib as mpl\n",
    "import matplotlib.pyplot as plt\n",
    "import platform\n",
    "\n",
    "plt.rcParams['axes.unicode_minus'] = False\n",
    "\n",
    "if platform.system() == 'Darwin':\n",
    "    mpl.rc('font', family='AppleGothic')\n",
    "elif platform.system() == 'Windows':\n",
    "    path = \"c:/Windows/Fonts/malgun.ttf\"\n",
    "    font_name = mpl.font_manager.FontProperties(fname=path).get_name()\n",
    "    mpl.rc('font', family=font_name)\n",
    "else:\n",
    "    print(\"Unknown System OS\")"
   ]
  },
  {
   "cell_type": "code",
   "execution_count": null,
   "metadata": {},
   "outputs": [],
   "source": [
    "# 8. pandas 시각화\n",
    "# (3) 원형그래프\n",
    "df_tpop = pd.read_csv(\"data/20200521_202004_주민등록인구및세대현황.csv\",\n",
    "                      encoding=\"cp949\", engine=\"python\")\n",
    "df_pro = df_tpop"
   ]
  },
  {
   "cell_type": "code",
   "execution_count": null,
   "metadata": {},
   "outputs": [],
   "source": [
    "print(df_tpop.shape)"
   ]
  },
  {
   "cell_type": "code",
   "execution_count": null,
   "metadata": {},
   "outputs": [],
   "source": [
    "print(df_tpop.columns)"
   ]
  },
  {
   "cell_type": "code",
   "execution_count": null,
   "metadata": {},
   "outputs": [],
   "source": [
    "print(df_tpop.info())"
   ]
  },
  {
   "cell_type": "code",
   "execution_count": null,
   "metadata": {},
   "outputs": [],
   "source": [
    "print(df_tpop.head())"
   ]
  },
  {
   "cell_type": "code",
   "execution_count": null,
   "metadata": {},
   "outputs": [],
   "source": [
    "print(df_tpop.tail())"
   ]
  },
  {
   "cell_type": "code",
   "execution_count": null,
   "metadata": {},
   "outputs": [],
   "source": [
    "df_tpop.plot(kind='pie', y='총인구수', autopct='%1.1f%%',\n",
    "             labels=df_tpop['행정구역'], legend=False, figsize=(10, 10))\n",
    "plt.title('2020년 04월 행정구역별 주민등록인구 현황')\n",
    "plt.savefig('plots/2020_04_행정구역별_주민등록인구_원형.png')\n",
    "plt.show()\n",
    "plt.close()"
   ]
  },
  {
   "cell_type": "code",
   "execution_count": null,
   "metadata": {},
   "outputs": [],
   "source": [
    "df_tpop.plot.pie(y='총인구수', autopct='%1.1f%%',\n",
    "                 labels=df_tpop['행정구역'], legend=False, figsize=(10, 10))"
   ]
  },
  {
   "cell_type": "code",
   "execution_count": null,
   "metadata": {},
   "outputs": [],
   "source": [
    "# (4) 막대 그래프\n",
    "\n",
    "df_tpop.plot(kind='bar', x='행정구역', y='총인구수', rot=45, legend=False,\n",
    "             figsize=(10, 10))\n",
    "plt.title('2020년 04월 행정구역별 주민등록인구 현황')\n",
    "plt.savefig('plots/2020_04_행정구역별_주민등록인구_막대.png')\n",
    "plt.show()\n",
    "plt.close()"
   ]
  },
  {
   "cell_type": "code",
   "execution_count": null,
   "metadata": {},
   "outputs": [],
   "source": [
    "df_tpop.plot.bar(x='행정구역', y='총인구수', rot=45, legend=False,\n",
    "                 figsize=(10, 10))"
   ]
  },
  {
   "cell_type": "code",
   "execution_count": null,
   "metadata": {},
   "outputs": [],
   "source": [
    "df_tpop.plot(kind='bar', x='행정구역', subplots=True, layout=(3, 2),\n",
    "             rot=45, figsize=(10, 8))"
   ]
  },
  {
   "cell_type": "code",
   "execution_count": null,
   "metadata": {},
   "outputs": [],
   "source": [
    "df_tpop.plot.bar(subplots=True, x='행정구역', layout=(3, 2),\n",
    "                 rot=45, figsize=(10, 8))"
   ]
  },
  {
   "cell_type": "code",
   "execution_count": null,
   "metadata": {},
   "outputs": [],
   "source": [
    "# 빈도 막대그래프\n",
    "df_subway2 = pd.read_csv(\"data/20200423_202002_서울지하철승하차인원수.csv\",\n",
    "                         encoding='cp949', engine=\"python\")\n",
    "df_subway_groupby = df_subway2.groupby('노선명').sum()\n",
    "df_subway_groupby['하차총승객수'].plot(kind='bar', rot=45, figsize=(12, 7))\n",
    "plt.title('2020년 02월 지하철노선별 하차승객수')\n",
    "plt.savefig('plots/2020_02_지하철노선별_하차승객수_막대.png')\n",
    "plt.show()\n",
    "plt.close()"
   ]
  },
  {
   "cell_type": "code",
   "execution_count": null,
   "metadata": {},
   "outputs": [],
   "source": [
    "df_subway_groupby['하차총승객수'].plot.bar(rot=45, figsize=(12, 7))"
   ]
  },
  {
   "cell_type": "code",
   "execution_count": null,
   "metadata": {},
   "outputs": [],
   "source": [
    "# (5) 히스토그램\n",
    "df_air = pd.read_csv(\"data/20200511_ghg.csv\", encoding='cp949')\n",
    "print(df_air.columns)\n",
    "print(df_air.info())"
   ]
  },
  {
   "cell_type": "code",
   "execution_count": null,
   "metadata": {},
   "outputs": [],
   "source": [
    "df_air['CO2_ppm'].plot(kind='hist')"
   ]
  },
  {
   "cell_type": "code",
   "execution_count": null,
   "metadata": {},
   "outputs": [],
   "source": [
    "df_air['CO2_ppm'].plot.hist()"
   ]
  },
  {
   "cell_type": "code",
   "execution_count": null,
   "metadata": {},
   "outputs": [],
   "source": [
    "df_air['CH4_ppm'].plot(kind='hist')"
   ]
  },
  {
   "cell_type": "code",
   "execution_count": null,
   "metadata": {},
   "outputs": [],
   "source": [
    "df_air['CH4_ppm'].plot.hist()"
   ]
  },
  {
   "cell_type": "code",
   "execution_count": null,
   "metadata": {},
   "outputs": [],
   "source": [
    "df_air.plot(kind='hist', alpha=0.5)"
   ]
  },
  {
   "cell_type": "code",
   "execution_count": null,
   "metadata": {},
   "outputs": [],
   "source": [
    "df_air.plot.hist(alpha=0.5)"
   ]
  },
  {
   "cell_type": "code",
   "execution_count": null,
   "metadata": {},
   "outputs": [],
   "source": [
    "df_air.plot(kind='hist', bins=30, subplots=True,\n",
    "            layout=(4, 2), figsize=(10, 8))"
   ]
  },
  {
   "cell_type": "code",
   "execution_count": null,
   "metadata": {},
   "outputs": [],
   "source": [
    "df_air.plot.hist(bins=30, subplots=True, layout=(4, 2), figsize=(10, 8))"
   ]
  },
  {
   "cell_type": "code",
   "execution_count": null,
   "metadata": {},
   "outputs": [],
   "source": [
    "# 히스토그램 서브플롯별 축 분리\n",
    "var1 = ['CO2_ppm', 'CH4_ppm', 'N2O_ppm', 'CFC11_ppm', 'CFC12_ppm',\n",
    "       'CFC113_ppm', 'SF6_ppm']\n",
    "\n",
    "i = 0\n",
    "\n",
    "fig = plt.figure(figsize=(15, 10))\n",
    "plt.title('1999-2008년 온실가스', y=1.05)\n",
    "for v in var1:\n",
    "    i += 1\n",
    "    ax = fig.add_subplot(3, 3, i)\n",
    "    ax.title.set_text(v)\n",
    "    df_air[v].plot.hist(alpha=0.8)\n",
    "    plt.legend(loc='upper right')\n",
    "    #plt.suptitle(v)\n",
    "plt.savefig('plots/1999-2008_온실가스.png')\n",
    "plt.show()\n",
    "plt.close()"
   ]
  },
  {
   "cell_type": "code",
   "execution_count": null,
   "metadata": {},
   "outputs": [],
   "source": [
    "# 7개의 개별 히스토그램 생성\n",
    "var1 = ['CO2_ppm', 'CH4_ppm', 'N2O_ppm', 'CFC11_ppm', 'CFC12_ppm',\n",
    "       'CFC113_ppm', 'SF6_ppm']\n",
    "for v in var1:\n",
    "    df_air[v].plot(kind='hist', alpha=0.8)\n",
    "    plt.legend(loc='upper right')\n",
    "    plt.suptitle(v)\n",
    "    plt.show()\n",
    "\n",
    "plt.close()"
   ]
  },
  {
   "cell_type": "code",
   "execution_count": null,
   "metadata": {},
   "outputs": [],
   "source": [
    "# (6) 산점도, 산점도 행렬, 히트맵\n",
    "# 1) 산점도(산포도)\n",
    "df_ol = pd.read_excel('data/20180217_2017년서울시구별노령화지수.xlsx')\n",
    "print(df_ol.columns)\n",
    "print(df_ol.info())"
   ]
  },
  {
   "cell_type": "code",
   "execution_count": null,
   "metadata": {},
   "outputs": [],
   "source": [
    "df_ol.plot(kind='scatter', x='유년부양비', y='노년부양비')"
   ]
  },
  {
   "cell_type": "code",
   "execution_count": null,
   "metadata": {},
   "outputs": [],
   "source": [
    "df_ol.plot.scatter(x='유년부양비', y='노년부양비')"
   ]
  },
  {
   "cell_type": "code",
   "execution_count": null,
   "metadata": {},
   "outputs": [],
   "source": [
    "df_ol.plot(kind='scatter', x='노령화지수', y='노년부양비')"
   ]
  },
  {
   "cell_type": "code",
   "execution_count": null,
   "metadata": {},
   "outputs": [],
   "source": [
    "df_ol.plot.scatter(x='노령화지수', y='노년부양비')"
   ]
  },
  {
   "cell_type": "code",
   "execution_count": null,
   "metadata": {},
   "outputs": [],
   "source": [
    "df_ol.plot(kind='scatter', x='노령화지수', y='유년부양비')"
   ]
  },
  {
   "cell_type": "code",
   "execution_count": null,
   "metadata": {},
   "outputs": [],
   "source": [
    "df_ol.plot.scatter(x='노령화지수', y='유년부양비')"
   ]
  },
  {
   "cell_type": "code",
   "execution_count": null,
   "metadata": {},
   "outputs": [],
   "source": [
    "# 상관관계\n",
    "df_ol_p = df_ol[['자치구', '유년부양비', '노년부양비', '노령화지수']]\n",
    "\n",
    "print(df_ol_p.corr())  # Pearson"
   ]
  },
  {
   "cell_type": "code",
   "execution_count": null,
   "metadata": {},
   "outputs": [],
   "source": [
    "print(df_ol_p.corr(method=\"spearman\"))  # spearman"
   ]
  },
  {
   "cell_type": "code",
   "execution_count": null,
   "metadata": {},
   "outputs": [],
   "source": [
    "print(df_ol_p[\"노년부양비\"].corr(df_ol_p[\"노령화지수\"]))\n",
    "print(df_ol_p[\"노년부양비\"].corr(df_ol_p[\"노령화지수\"], method=\"spearman\"))"
   ]
  },
  {
   "cell_type": "code",
   "execution_count": null,
   "metadata": {},
   "outputs": [],
   "source": [
    "# 2) 산점도 행렬(산포행렬)\n",
    "from pandas.plotting import scatter_matrix\n",
    "\n",
    "scatter_matrix(df_ol_p, figsize=(8, 8))"
   ]
  },
  {
   "cell_type": "code",
   "execution_count": null,
   "metadata": {},
   "outputs": [],
   "source": [
    "scatter_matrix(df_ol_p, diagonal='kde', figsize=(8, 8))"
   ]
  },
  {
   "cell_type": "code",
   "execution_count": null,
   "metadata": {},
   "outputs": [],
   "source": [
    "df_air = pd.read_csv(\"data/20200511_ghg.csv\", encoding='cp949')\n",
    "print(df_air.columns)"
   ]
  },
  {
   "cell_type": "code",
   "execution_count": null,
   "metadata": {},
   "outputs": [],
   "source": [
    "print(df_air.info())"
   ]
  },
  {
   "cell_type": "code",
   "execution_count": null,
   "metadata": {},
   "outputs": [],
   "source": [
    "scatter_matrix(df_air, figsize=(8, 8))"
   ]
  },
  {
   "cell_type": "code",
   "execution_count": null,
   "metadata": {},
   "outputs": [],
   "source": [
    "df_air.plot(kind='scatter', x='SF6_ppm', y='CFC113_ppm')"
   ]
  },
  {
   "cell_type": "code",
   "execution_count": null,
   "metadata": {},
   "outputs": [],
   "source": [
    "df_air.plot(kind='scatter', x='CO2_ppm', y='CH4_ppm')"
   ]
  },
  {
   "cell_type": "code",
   "execution_count": null,
   "metadata": {},
   "outputs": [],
   "source": [
    "# 산점도 행렬에 상관계수 표시\n",
    "from pandas.plotting import scatter_matrix\n",
    "\n",
    "axes = scatter_matrix(df_ol_p, alpha=0.5, diagonal='kde', figsize=(8, 8))\n",
    "corr = df_ol_p.corr().to_numpy()\n",
    "\n",
    "for i, j in zip(*plt.np.triu_indices_from(axes, k=1)):\n",
    "    axes[i, j].annotate(\"%.3f\" % corr[i, j], (0.8, 0.8),\n",
    "          xycoords='axes fraction', ha='center', va='center')\n",
    "\n",
    "plt.show()\n",
    "plt.close()"
   ]
  },
  {
   "cell_type": "code",
   "execution_count": null,
   "metadata": {},
   "outputs": [],
   "source": [
    "# seaborn을 사용한 산점도에 선형회귀 추가\n",
    "import seaborn as sns\n",
    "sns.regplot(x=\"CO2_ppm\", y=\"CH4_ppm\", data=df_air)"
   ]
  },
  {
   "cell_type": "code",
   "execution_count": null,
   "metadata": {},
   "outputs": [],
   "source": [
    "sns.regplot(x=\"SF6_ppm\", y=\"CFC113_ppm\", data=df_air)"
   ]
  },
  {
   "cell_type": "code",
   "execution_count": null,
   "metadata": {},
   "outputs": [],
   "source": [
    "# seaborn을 사용한 산포행렬에 선형회귀 추가\n",
    "import seaborn as sns\n",
    "\n",
    "pp = sns.pairplot(df_ol_p,  # df[cols]\n",
    "                  diag_kws=dict(shade=True),  # \"diag\" adjusts/tunes the diagonal plots\n",
    "                  diag_kind=\"kde\",  # use \"kde\" for diagonal plots\n",
    "                  kind=\"reg\")  # 산점도에 선형회귀(linear regression) 추가\n",
    "\n",
    "fig = pp.fig \n",
    "fig.subplots_adjust(top=0.93, wspace=0.3)\n",
    "fig.suptitle('노령화지수 산포행렬', fontsize=14, fontweight='bold')\n",
    "fig.savefig(\"plots/pairplot.png\")"
   ]
  },
  {
   "cell_type": "code",
   "execution_count": null,
   "metadata": {},
   "outputs": [],
   "source": [
    "# 3) 히트맵(hexbin)\n",
    "df_air.plot(kind=\"hexbin\", x=\"CO2_ppm\", y=\"CH4_ppm\", sharex=False)"
   ]
  },
  {
   "cell_type": "code",
   "execution_count": null,
   "metadata": {},
   "outputs": [],
   "source": [
    "df_air.plot.hexbin(x=\"CO2_ppm\", y=\"CH4_ppm\", sharex=False)"
   ]
  },
  {
   "cell_type": "code",
   "execution_count": null,
   "metadata": {},
   "outputs": [],
   "source": [
    "df_ol_p.plot(kind=\"hexbin\", x=\"유년부양비\", y=\"노년부양비\", sharex=False)"
   ]
  },
  {
   "cell_type": "code",
   "execution_count": null,
   "metadata": {},
   "outputs": [],
   "source": [
    "df_ol_p.plot.hexbin(x=\"유년부양비\", y=\"노년부양비\", sharex=False)"
   ]
  },
  {
   "cell_type": "code",
   "execution_count": null,
   "metadata": {},
   "outputs": [],
   "source": [
    "# seaborn을 사용한 히트맵\n",
    "# 참고 https://jovianlin.io/data-visualization-seaborn-part-2/\n",
    "import seaborn as sns\n",
    "\n",
    "corr = df_air.corr()\n",
    "fig, ax = plt.subplots(1, 1, figsize=(10,6))\n",
    "\n",
    "hm = sns.heatmap(corr, \n",
    "                 ax=ax,   # Axes in which to draw the plot, otherwise use the currently-active Axes.\n",
    "                 cmap=\"coolwarm\", # Color Map.\n",
    "                 #square=True,    # If True, set the Axes aspect to “equal” so each cell will be square-shaped.\n",
    "                 annot=True, \n",
    "                 fmt='.2f',       # String formatting code to use when adding annotations.\n",
    "                 #annot_kws={\"size\": 14},\n",
    "                 linewidths=.05)\n",
    "\n",
    "fig.subplots_adjust(top=0.93)\n",
    "fig.suptitle('Green House gas Heatmap', \n",
    "              fontsize=14, \n",
    "              fontweight='bold')"
   ]
  },
  {
   "cell_type": "code",
   "execution_count": null,
   "metadata": {},
   "outputs": [],
   "source": [
    "#(7) 선그래프\n",
    "print(df_air.columns)\n",
    "print(df_air.info())"
   ]
  },
  {
   "cell_type": "code",
   "execution_count": null,
   "metadata": {},
   "outputs": [],
   "source": [
    "df_air.plot(kind=\"line\", x=\"시간\", y=\"CO2_ppm\")"
   ]
  },
  {
   "cell_type": "code",
   "execution_count": null,
   "metadata": {},
   "outputs": [],
   "source": [
    "df_air.plot.line(x=\"시간\", y=\"CO2_ppm\")"
   ]
  },
  {
   "cell_type": "code",
   "execution_count": null,
   "metadata": {},
   "outputs": [],
   "source": [
    "df_air.plot(kind=\"line\", x=\"시간\")"
   ]
  },
  {
   "cell_type": "code",
   "execution_count": null,
   "metadata": {},
   "outputs": [],
   "source": [
    "df_air.plot.line(x=\"시간\")"
   ]
  },
  {
   "cell_type": "code",
   "execution_count": null,
   "metadata": {},
   "outputs": [],
   "source": [
    "df_oz = pd.read_csv('data/ozone_data.csv', encoding=\"cp949\")\n",
    "print(df_oz.columns)\n",
    "print(df_oz.info())\n",
    "df_oz.plot.line(x=\"일시\", y=\"평균오존전량(DU)\")"
   ]
  },
  {
   "cell_type": "code",
   "execution_count": null,
   "metadata": {},
   "outputs": [],
   "source": [
    "# (8) 상자그림 그래프\n",
    "df_subway2 = pd.read_csv(\"data/20200423_202002_서울지하철승하차인원수.csv\",\n",
    "                         encoding='cp949', engine=\"python\")\n",
    "df_sub = df_subway2\n",
    "print(df_subway2.columns)\n",
    "print(df_subway2.info())"
   ]
  },
  {
   "cell_type": "code",
   "execution_count": null,
   "metadata": {},
   "outputs": [],
   "source": [
    "df_subway2.boxplot(by=\"노선명\", column=['하차총승객수'], figsize=(15, 8))"
   ]
  },
  {
   "cell_type": "code",
   "execution_count": null,
   "metadata": {},
   "outputs": [],
   "source": [
    "# seaborn을 사용한 상자그림\n",
    "import matplotlib.pyplot as plt\n",
    "import seaborn as sns\n",
    "\n",
    "fig, ax = plt.subplots(figsize=(15, 8))\n",
    "sns.boxplot(y='하차총승객수', x='노선명', data=df_subway2, ax=ax,\n",
    "            width=0.5, palette=\"colorblind\")"
   ]
  },
  {
   "cell_type": "code",
   "execution_count": null,
   "metadata": {},
   "outputs": [],
   "source": [
    "cnd = ['1호선', '2호선', '3호선', '4호선']\n",
    "print(df_subway2[df_subway2['노선명'].isin(['1호선', '2호선'])])"
   ]
  },
  {
   "cell_type": "code",
   "execution_count": null,
   "metadata": {},
   "outputs": [],
   "source": [
    "df_subway2_p = df_subway2[df_subway2['노선명'].isin(cnd)]\n",
    "print(df_subway2_p)"
   ]
  },
  {
   "cell_type": "code",
   "execution_count": null,
   "metadata": {},
   "outputs": [],
   "source": [
    "# seaborn을 사용한 상자그림에 산점도 추가 - stripplot\n",
    "import numpy as np\n",
    "np.random.seed(202005)\n",
    "\n",
    "fig, ax = plt.subplots(figsize=(15, 8))\n",
    "sns.boxplot(y='하차총승객수', x='노선명', data=df_subway2_p, ax=ax,\n",
    "            palette=\"colorblind\")\n",
    "sns.stripplot(y='하차총승객수', x='노선명', data=df_subway2_p, ax=ax,\n",
    "              jitter=True, marker='o', alpha=0.5, color='black')"
   ]
  },
  {
   "cell_type": "code",
   "execution_count": null,
   "metadata": {},
   "outputs": [],
   "source": [
    "# seaborn을 사용한 상자그림에 산점도 추가 - swarmplot\n",
    "fig, ax = plt.subplots(figsize=(15, 8))\n",
    "sns.boxplot(y='하차총승객수', x='노선명', data=df_subway2_p, ax=ax,\n",
    "            palette=\"colorblind\")\n",
    "sns.swarmplot(y='하차총승객수', x='노선명', data=df_subway2_p, ax=ax,\n",
    "              alpha=0.5, color='black')"
   ]
  }
 ],
 "metadata": {
  "kernelspec": {
   "display_name": "Python 3",
   "language": "python",
   "name": "python3"
  },
  "language_info": {
   "codemirror_mode": {
    "name": "ipython",
    "version": 3
   },
   "file_extension": ".py",
   "mimetype": "text/x-python",
   "name": "python",
   "nbconvert_exporter": "python",
   "pygments_lexer": "ipython3",
   "version": "3.7.7"
  }
 },
 "nbformat": 4,
 "nbformat_minor": 4
}
